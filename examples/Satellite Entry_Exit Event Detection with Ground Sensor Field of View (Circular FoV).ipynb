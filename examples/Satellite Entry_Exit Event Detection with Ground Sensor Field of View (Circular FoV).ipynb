{
 "cells": [
  {
   "cell_type": "markdown",
   "id": "1a0dbed2",
   "metadata": {},
   "source": [
    "# Satellite Entry/Exit Event Detection with Ground Sensor Field of View (Circular FoV)"
   ]
  },
  {
   "cell_type": "markdown",
   "id": "5bfa6f25",
   "metadata": {},
   "source": [
    "The FoV of the ground sensor is represented as a **Circular** shape. The sensor's attitude can be adjusted to deviate from the zenith orientation by specifying three consecutive rotation angles. If no specific attitude adjustment is needed, these rotation angles should be set to 0 degrees.\n",
    "\n",
    "Additionally, the code includes three detectors:\n",
    "- GroundFieldOfViewDetector\n",
    "- ElevationDetector\n",
    "- BooleanDetector\n"
   ]
  },
  {
   "cell_type": "code",
   "execution_count": 3,
   "id": "1a5436bf",
   "metadata": {},
   "outputs": [],
   "source": [
    "import orekit\n",
    "vm = orekit.initVM()\n",
    "\n",
    "from orekit.pyhelpers import setup_orekit_curdir\n",
    "setup_orekit_curdir()\n",
    "\n",
    "from org.orekit.attitudes import NadirPointing, LofOffset\n",
    "from org.orekit.bodies import OneAxisEllipsoid, GeodeticPoint\n",
    "from org.orekit.frames import FramesFactory, LOFType, TopocentricFrame, Frame, Transform\n",
    "from org.orekit.time import TimeScalesFactory, AbsoluteDate\n",
    "from org.orekit.utils import Constants, IERSConventions, PVCoordinatesProvider\n",
    "from org.orekit.propagation import SpacecraftState\n",
    "from org.orekit.propagation.analytical.tle import TLE, TLEPropagator\n",
    "from org.orekit.models.earth.tessellation import EllipsoidTessellator\n",
    "from org.orekit.propagation.events import EventDetector, EventsLogger, ElevationDetector, GroundFieldOfViewDetector, BooleanDetector\n",
    "from org.orekit.propagation.events.handlers import ContinueOnEvent, StopOnEvent\n",
    "from org.orekit.geometry.fov import CircularFieldOfView\n",
    "\n",
    "from org.hipparchus.geometry.euclidean.threed import Vector3D, Line, RotationOrder, Rotation, RotationConvention\n",
    "from org.hipparchus.geometry.spherical.twod import SphericalPolygonsSet\n",
    "\n",
    "from math import radians, degrees, pi, sqrt, atan\n",
    "import matplotlib.pyplot as plt\n",
    "import numpy as np\n",
    "import pandas as pd\n",
    "import re"
   ]
  },
  {
   "cell_type": "markdown",
   "id": "6e5a11d5",
   "metadata": {},
   "source": [
    "First call the frames and time scales to be used in the code and create Earth body."
   ]
  },
  {
   "cell_type": "code",
   "execution_count": 5,
   "id": "ba5b2090",
   "metadata": {},
   "outputs": [],
   "source": [
    "UTC = TimeScalesFactory.getUTC()                               # Define UTC time scale.\n",
    "ECI = FramesFactory.getEME2000()                               # Define ECI reference frame.\n",
    "ECEF = FramesFactory.getITRF(IERSConventions.IERS_2010, True)  # Define ECEF reference frame.\n",
    "TEME = FramesFactory.getTEME()                                 # Define TEME reference frame. \n",
    "ITRF = ECEF\n",
    "\n",
    "R_earth  = Constants.WGS84_EARTH_EQUATORIAL_RADIUS             # Radius of earth\n",
    "Mu_earth = Constants.WGS84_EARTH_MU                            # Gravitational parameter of earth\n",
    "f_earth  = Constants.WGS84_EARTH_FLATTENING                    # Earth flattening value\n",
    "\n",
    "earth = OneAxisEllipsoid(R_earth, f_earth, ITRF)               # Create earth here."
   ]
  },
  {
   "cell_type": "markdown",
   "id": "7ea3b63a",
   "metadata": {},
   "source": [
    "Here, we first take TLE as an input, and from the *TLEPropagator* method we recieve its PV to get Kepler Elements."
   ]
  },
  {
   "cell_type": "code",
   "execution_count": 7,
   "id": "64d0a595",
   "metadata": {},
   "outputs": [
    {
     "name": "stdout",
     "output_type": "stream",
     "text": [
      "Propagation initial date:  2024-09-21T03:41:36.25584Z\n",
      "Propagation final date:  2024-09-24T03:41:36.25584Z\n"
     ]
    }
   ],
   "source": [
    "# ISS 25544\n",
    "tle_line1 = \"1 25544U 98067A   24265.15389185  .00020992  00000-0  38244-3 0  9995\"\n",
    "tle_line2 = \"2 25544  51.6375 200.0394 0007352  15.0244 345.0962 15.49404240473433\"\n",
    "mytle = TLE(tle_line1, tle_line2)\n",
    "\n",
    "\n",
    "initialDate = mytle.getDate()                    # This is the TLE epoch date read from first line.\n",
    "finalDate = initialDate.shiftedBy(3600.0 * 72)   # Shift initial date by x hours.\n",
    "\n",
    "print('Propagation initial date: ', initialDate)\n",
    "print('Propagation final date: ', finalDate)\n",
    "\n",
    "satellite_mass = 466615.0                        # Satellite mass [kg]\n",
    "attitudeProvider = NadirPointing(TEME, earth)    # Also provide attitude of the satellite\n",
    "\n",
    "SGP4 = TLEPropagator.selectExtrapolator(mytle, attitudeProvider, satellite_mass) "
   ]
  },
  {
   "cell_type": "markdown",
   "id": "5a20d0ee",
   "metadata": {},
   "source": [
    "Geodetic coordinates (lat/long/alt) of the ground station must be defined below. Coordinate frame of the station is accepted as *TopocentricFrame*. This frame is associated to a position near the surface of a body shape.\n",
    "\n",
    "The origin of the frame is at the defined geodetic point location, and the right-handed canonical trihedra is:\n",
    "\n",
    "- X axis in the local horizontal plane (normal to zenith direction) and following the local parallel towards East\n",
    "- Y axis in the horizontal plane (normal to zenith direction) and following the local meridian towards North\n",
    "- Z axis towards Zenith direction"
   ]
  },
  {
   "cell_type": "code",
   "execution_count": 9,
   "id": "515e4af8",
   "metadata": {},
   "outputs": [
    {
     "name": "stdin",
     "output_type": "stream",
     "text": [
      "Latitude (degree):   32.32\n",
      "Longitude (degree):   39.39\n",
      "Altitude (meter):   0\n"
     ]
    }
   ],
   "source": [
    "# Define the ground station location\n",
    "latitude  = input('Latitude (degree):  ') \n",
    "latitude  = radians(float(latitude))\n",
    "longitude = input('Longitude (degree):  ')\n",
    "longitude = radians(float(longitude))\n",
    "altitude  = input('Altitude (meter):  ')\n",
    "altitude  = (float(altitude))\n",
    "\n",
    "# Frame of the ground station is given as Topocentric Frame.\n",
    "station_gp = GeodeticPoint(latitude, longitude, altitude)\n",
    "station_frame = TopocentricFrame(earth, station_gp, \"topo\")"
   ]
  },
  {
   "cell_type": "markdown",
   "id": "0bf37d90",
   "metadata": {},
   "source": [
    "In the following parts, we are going to create ground sensor with different FoV shapes using related lat/long/alt coordinates."
   ]
  },
  {
   "cell_type": "markdown",
   "id": "f3354b9e",
   "metadata": {},
   "source": [
    "### Rotations with Respective Axes"
   ]
  },
  {
   "cell_type": "markdown",
   "id": "d5eaa928",
   "metadata": {},
   "source": [
    "The ground station frame is defined as topocentric. Based on this definition, the user can rotate this frame to achieve the desired attitude for the ground sensor.\n",
    "\n",
    "In this code, **rotations are applied in the X-Y-Z order**. This means the topocentric frame is first rotated around the X axis, followed by the Y axis, and then the Z axis. While the rotation order can be modified, it's important to note that starting with a rotation around the Z axis is more prone to errors."
   ]
  },
  {
   "cell_type": "code",
   "execution_count": 13,
   "id": "e4fd7516",
   "metadata": {},
   "outputs": [
    {
     "name": "stdin",
     "output_type": "stream",
     "text": [
      "Enter the first rotation angle in degrees:   0\n",
      "Enter the second rotation angle in degrees:   0\n",
      "Enter the third rotation angle in degrees:   0\n"
     ]
    }
   ],
   "source": [
    "# Using MINUS for X and Y axes, and PLUS for Z axis in this code. Our notation becomes:\n",
    "# (X = East, Y = North, Z = Zenith)\n",
    "# which is the definition of topocentric frame in Orekit.\n",
    "rotation1 = input('Enter the first rotation angle in degrees:  ')\n",
    "rotation1 = radians(float(rotation1))\n",
    "rotation2 = input('Enter the second rotation angle in degrees:  ')\n",
    "rotation2 = radians(float(rotation2))\n",
    "rotation3 = input('Enter the third rotation angle in degrees:  ')\n",
    "rotation3 = radians(float(rotation3))\n",
    "\n",
    "# If rotation vectors are entered PLUS instead of MINUS, then the correct XYZ notation becomes:\n",
    "# (X = West, Y = South, Z = Zenith)\n",
    "\n",
    "# First rotation\n",
    "rotation = Transform(AbsoluteDate.ARBITRARY_EPOCH, Rotation(Vector3D.MINUS_I, rotation1, RotationConvention.VECTOR_OPERATOR))\n",
    "myFoVFrame = Frame(station_frame, rotation, \"myFovFrame\")\n",
    "# Second rotation\n",
    "rotation = Transform(AbsoluteDate.ARBITRARY_EPOCH, Rotation(Vector3D.MINUS_J, rotation2, RotationConvention.VECTOR_OPERATOR))\n",
    "myFoVFrame = Frame(myFoVFrame, rotation, \"myFovFrame\")\n",
    "# Third rotation\n",
    "rotation = Transform(AbsoluteDate.ARBITRARY_EPOCH, Rotation(Vector3D.PLUS_K, rotation3, RotationConvention.VECTOR_OPERATOR))\n",
    "myFoVFrame = Frame(myFoVFrame, rotation, \"myFovFrame\")"
   ]
  },
  {
   "cell_type": "markdown",
   "id": "fc941d93",
   "metadata": {},
   "source": [
    "After rotating our initial topocentric frame three times, we reach our desired attitude for the sensor attached to the ground station."
   ]
  },
  {
   "cell_type": "markdown",
   "id": "93d8b0b7",
   "metadata": {},
   "source": [
    "### Creating the Ground FoV Sensor "
   ]
  },
  {
   "cell_type": "markdown",
   "id": "adda6ae8",
   "metadata": {},
   "source": [
    "Defining FoV shape of the ground sensor and creating *GroundFieldOfViewDetector* together with *ElevationDetector* method. Finally these event detectors are combined with a *BooleanDetector*, and they are added to propagator for monitoring."
   ]
  },
  {
   "cell_type": "code",
   "execution_count": 17,
   "id": "40588a83",
   "metadata": {},
   "outputs": [
    {
     "name": "stdin",
     "output_type": "stream",
     "text": [
      "The half-angle of the apex of the cone formed by the target (cone base) and the ground circular detector (cone apex) (degrees):   25\n"
     ]
    }
   ],
   "source": [
    "# Circular Field-Of-View\n",
    "#xfov  = 20.0              # [degrees]   \n",
    "xfov  = input('The half-angle of the apex of the cone formed by the target (cone base) and the ground circular detector (cone apex) (degrees):  ')\n",
    "xfov  = float(xfov)\n",
    "fov_margin = 0.0\n",
    "\n",
    "imagerFOV = CircularFieldOfView(Vector3D.PLUS_K, radians(xfov), fov_margin)\n",
    "\n",
    "# Define Ground Field of View Detector\n",
    "GFoVDetector = GroundFieldOfViewDetector(myFoVFrame, imagerFOV).withMaxCheck(5.0).withHandler(ContinueOnEvent())\n",
    "GFoV_logger = EventsLogger()\n",
    "\n",
    "# Define Elevation Detector\n",
    "horizon_limit = radians(0.0)\n",
    "eleDetector = ElevationDetector(station_frame).withConstantElevation(horizon_limit).withHandler(ContinueOnEvent())\n",
    "ele_logger = EventsLogger()\n",
    "\n",
    "#combinedDetector = BooleanDetector.andCombine([BooleanDetector.notCombine(GFoVDetector),eleDetector])\n",
    "combinedDetector = BooleanDetector.andCombine([BooleanDetector.notCombine(GFoVDetector),eleDetector])\n",
    "combined_logger = EventsLogger()\n",
    "\n",
    "# Add the seperate detectors to the SGP4 propagator\n",
    "SGP4.addEventDetector(GFoV_logger.monitorDetector(GFoVDetector))\n",
    "SGP4.addEventDetector(ele_logger.monitorDetector(eleDetector))\n",
    "SGP4.addEventDetector(combined_logger.monitorDetector(combinedDetector))"
   ]
  },
  {
   "cell_type": "markdown",
   "id": "31fbc471",
   "metadata": {},
   "source": [
    "Now start propagating the TLE with SGP4. Here, propagation interval has to be sufficiently small because if it is large, detectors may miss certain events."
   ]
  },
  {
   "cell_type": "code",
   "execution_count": 19,
   "id": "e9f370f1",
   "metadata": {},
   "outputs": [],
   "source": [
    "pos = []                                                       # position vector array to be filled.\n",
    "SGP4 = PVCoordinatesProvider.cast_(SGP4)\n",
    "###Start SGP4 propagation from initialDate up until finalDate\n",
    "while (initialDate.compareTo(finalDate) <= 0.0):\n",
    "    SGP4_pv = SGP4.getPVCoordinates(initialDate, ITRF)         # Get PV coordinates\n",
    "    posSGP4 = SGP4_pv.getPosition()                            # But we only want position vector.\n",
    "    pos.append((posSGP4.getX(),posSGP4.getY(),posSGP4.getZ())) # Get individual elements of position\n",
    "    posSGP4 = pos\n",
    "    initialDate = initialDate.shiftedBy(10.0)                  # Propagate with 10 sec intervals."
   ]
  },
  {
   "cell_type": "markdown",
   "id": "b31bf1a4",
   "metadata": {},
   "source": [
    "Finally the logged events are retrieved and printed in a readable way."
   ]
  },
  {
   "cell_type": "markdown",
   "id": "557370bc-5e17-44f1-89dd-5b54ef14b4cc",
   "metadata": {},
   "source": [
    "**Ground Field of View Detector** "
   ]
  },
  {
   "cell_type": "code",
   "execution_count": 22,
   "id": "f0e5206b-0295-4484-b8b5-9ebd6254e603",
   "metadata": {},
   "outputs": [
    {
     "data": {
      "text/html": [
       "<div>\n",
       "<style scoped>\n",
       "    .dataframe tbody tr th:only-of-type {\n",
       "        vertical-align: middle;\n",
       "    }\n",
       "\n",
       "    .dataframe tbody tr th {\n",
       "        vertical-align: top;\n",
       "    }\n",
       "\n",
       "    .dataframe thead th {\n",
       "        text-align: right;\n",
       "    }\n",
       "</style>\n",
       "<table border=\"1\" class=\"dataframe\">\n",
       "  <thead>\n",
       "    <tr style=\"text-align: right;\">\n",
       "      <th></th>\n",
       "      <th>GFoV Entry</th>\n",
       "      <th>GFoV Exit</th>\n",
       "      <th>Duration (min)</th>\n",
       "    </tr>\n",
       "  </thead>\n",
       "  <tbody>\n",
       "    <tr>\n",
       "      <th>0</th>\n",
       "      <td>2024-09-23 ==&gt; 11:35:30.02782853973246Z</td>\n",
       "      <td>2024-09-23 ==&gt; 11:36:01.4030665980785Z</td>\n",
       "      <td>0.522921</td>\n",
       "    </tr>\n",
       "    <tr>\n",
       "      <th>1</th>\n",
       "      <td>2024-09-23 ==&gt; 19:44:43.59295891017643Z</td>\n",
       "      <td>2024-09-23 ==&gt; 19:45:23.87070628906552Z</td>\n",
       "      <td>0.671296</td>\n",
       "    </tr>\n",
       "  </tbody>\n",
       "</table>\n",
       "</div>"
      ],
      "text/plain": [
       "                                GFoV Entry  \\\n",
       "0  2024-09-23 ==> 11:35:30.02782853973246Z   \n",
       "1  2024-09-23 ==> 19:44:43.59295891017643Z   \n",
       "\n",
       "                                 GFoV Exit  Duration (min)  \n",
       "0   2024-09-23 ==> 11:36:01.4030665980785Z        0.522921  \n",
       "1  2024-09-23 ==> 19:45:23.87070628906552Z        0.671296  "
      ]
     },
     "metadata": {},
     "output_type": "display_data"
    }
   ],
   "source": [
    "gfov_events = GFoV_logger.getLoggedEvents()            \n",
    "\n",
    "entry_list = []\n",
    "exit_list = []\n",
    "duration_list = []\n",
    "\n",
    "for event in gfov_events: \n",
    "    if not event.isIncreasing():\n",
    "        gfov_entry = event.getState().getDate()\n",
    "        entry_str = str(gfov_entry).replace(\"T\", \" ==> \")\n",
    "        entry_list.append(entry_str)\n",
    "    else:\n",
    "        gfov_exit = event.getState().getDate()\n",
    "        exit_str = str(gfov_exit).replace(\"T\", \" ==> \")\n",
    "        exit_list.append(exit_str)\n",
    "\n",
    "        gfov_duration = gfov_exit.durationFrom(gfov_entry) / 60  # Convert to minutes\n",
    "        duration_list.append(gfov_duration)\n",
    "\n",
    "# Create the DataFrame\n",
    "df_gfov = pd.DataFrame({\n",
    "    'GFoV Entry': entry_list,\n",
    "    'GFoV Exit': exit_list,\n",
    "    'Duration (min)': duration_list\n",
    "})\n",
    "\n",
    "# Display the DataFrame\n",
    "display(df_gfov)\n"
   ]
  },
  {
   "cell_type": "markdown",
   "id": "e5ba703e-42b8-4d1b-aeef-638a9d3da810",
   "metadata": {},
   "source": [
    "**Elevation Detector** "
   ]
  },
  {
   "cell_type": "code",
   "execution_count": 24,
   "id": "58946538-33fc-4410-91c6-ba5666d7c327",
   "metadata": {},
   "outputs": [
    {
     "data": {
      "text/html": [
       "<div>\n",
       "<style scoped>\n",
       "    .dataframe tbody tr th:only-of-type {\n",
       "        vertical-align: middle;\n",
       "    }\n",
       "\n",
       "    .dataframe tbody tr th {\n",
       "        vertical-align: top;\n",
       "    }\n",
       "\n",
       "    .dataframe thead th {\n",
       "        text-align: right;\n",
       "    }\n",
       "</style>\n",
       "<table border=\"1\" class=\"dataframe\">\n",
       "  <thead>\n",
       "    <tr style=\"text-align: right;\">\n",
       "      <th></th>\n",
       "      <th>Elevation Entry</th>\n",
       "      <th>Elevation Exit</th>\n",
       "      <th>Duration (min)</th>\n",
       "    </tr>\n",
       "  </thead>\n",
       "  <tbody>\n",
       "    <tr>\n",
       "      <th>0</th>\n",
       "      <td>2024-09-21 ==&gt; 11:30:06.5968397148828Z</td>\n",
       "      <td>2024-09-21 ==&gt; 11:39:49.07620138853702Z</td>\n",
       "      <td>9.707989</td>\n",
       "    </tr>\n",
       "    <tr>\n",
       "      <th>1</th>\n",
       "      <td>2024-09-21 ==&gt; 13:06:19.63809645173625Z</td>\n",
       "      <td>2024-09-21 ==&gt; 13:16:47.68992643520878Z</td>\n",
       "      <td>10.467530</td>\n",
       "    </tr>\n",
       "    <tr>\n",
       "      <th>2</th>\n",
       "      <td>2024-09-21 ==&gt; 14:45:40.9846746831693Z</td>\n",
       "      <td>2024-09-21 ==&gt; 14:52:44.49653641284313Z</td>\n",
       "      <td>7.058531</td>\n",
       "    </tr>\n",
       "    <tr>\n",
       "      <th>3</th>\n",
       "      <td>2024-09-21 ==&gt; 16:26:09.64151862541522Z</td>\n",
       "      <td>2024-09-21 ==&gt; 16:29:25.33492112747032Z</td>\n",
       "      <td>3.261557</td>\n",
       "    </tr>\n",
       "    <tr>\n",
       "      <th>4</th>\n",
       "      <td>2024-09-21 ==&gt; 18:02:48.704279659255Z</td>\n",
       "      <td>2024-09-21 ==&gt; 18:09:56.11815514665969Z</td>\n",
       "      <td>7.123565</td>\n",
       "    </tr>\n",
       "    <tr>\n",
       "      <th>5</th>\n",
       "      <td>2024-09-21 ==&gt; 19:38:45.11280464009924Z</td>\n",
       "      <td>2024-09-21 ==&gt; 19:49:18.5129401698631Z</td>\n",
       "      <td>10.556669</td>\n",
       "    </tr>\n",
       "    <tr>\n",
       "      <th>6</th>\n",
       "      <td>2024-09-21 ==&gt; 21:15:42.71999607193062Z</td>\n",
       "      <td>2024-09-21 ==&gt; 21:25:33.0483952283447Z</td>\n",
       "      <td>9.838807</td>\n",
       "    </tr>\n",
       "    <tr>\n",
       "      <th>7</th>\n",
       "      <td>2024-09-22 ==&gt; 10:43:08.04729354293681Z</td>\n",
       "      <td>2024-09-22 ==&gt; 10:51:26.8689359597056Z</td>\n",
       "      <td>8.313694</td>\n",
       "    </tr>\n",
       "    <tr>\n",
       "      <th>8</th>\n",
       "      <td>2024-09-22 ==&gt; 12:18:16.52083483240853Z</td>\n",
       "      <td>2024-09-22 ==&gt; 12:29:02.54716353705666Z</td>\n",
       "      <td>10.767105</td>\n",
       "    </tr>\n",
       "    <tr>\n",
       "      <th>9</th>\n",
       "      <td>2024-09-22 ==&gt; 13:56:56.02055649876915Z</td>\n",
       "      <td>2024-09-22 ==&gt; 14:05:07.05650597276352Z</td>\n",
       "      <td>8.183932</td>\n",
       "    </tr>\n",
       "    <tr>\n",
       "      <th>10</th>\n",
       "      <td>2024-09-22 ==&gt; 15:37:35.87857215197076Z</td>\n",
       "      <td>2024-09-22 ==&gt; 15:41:15.07772870865737Z</td>\n",
       "      <td>3.653319</td>\n",
       "    </tr>\n",
       "    <tr>\n",
       "      <th>11</th>\n",
       "      <td>2024-09-22 ==&gt; 17:15:10.59568780679782Z</td>\n",
       "      <td>2024-09-22 ==&gt; 17:21:03.18651639636517Z</td>\n",
       "      <td>5.876514</td>\n",
       "    </tr>\n",
       "    <tr>\n",
       "      <th>12</th>\n",
       "      <td>2024-09-22 ==&gt; 18:51:03.2312719703547Z</td>\n",
       "      <td>2024-09-22 ==&gt; 19:01:02.22916663935266Z</td>\n",
       "      <td>9.983298</td>\n",
       "    </tr>\n",
       "    <tr>\n",
       "      <th>13</th>\n",
       "      <td>2024-09-22 ==&gt; 20:27:36.11559101262776Z</td>\n",
       "      <td>2024-09-22 ==&gt; 20:38:10.75862603338244Z</td>\n",
       "      <td>10.577384</td>\n",
       "    </tr>\n",
       "    <tr>\n",
       "      <th>14</th>\n",
       "      <td>2024-09-23 ==&gt; 09:56:45.5670245044039Z</td>\n",
       "      <td>2024-09-23 ==&gt; 10:02:29.31970397431707Z</td>\n",
       "      <td>5.729211</td>\n",
       "    </tr>\n",
       "    <tr>\n",
       "      <th>15</th>\n",
       "      <td>2024-09-23 ==&gt; 11:30:23.7643706604586Z</td>\n",
       "      <td>2024-09-23 ==&gt; 11:41:10.19841210276076Z</td>\n",
       "      <td>10.773901</td>\n",
       "    </tr>\n",
       "    <tr>\n",
       "      <th>16</th>\n",
       "      <td>2024-09-23 ==&gt; 13:08:17.59730253484795Z</td>\n",
       "      <td>2024-09-23 ==&gt; 13:17:26.88405250114756Z</td>\n",
       "      <td>9.154779</td>\n",
       "    </tr>\n",
       "    <tr>\n",
       "      <th>17</th>\n",
       "      <td>2024-09-23 ==&gt; 14:48:42.91595951906441Z</td>\n",
       "      <td>2024-09-23 ==&gt; 14:53:21.82537363778293Z</td>\n",
       "      <td>4.648490</td>\n",
       "    </tr>\n",
       "    <tr>\n",
       "      <th>18</th>\n",
       "      <td>2024-09-23 ==&gt; 16:27:26.8040183220917Z</td>\n",
       "      <td>2024-09-23 ==&gt; 16:32:04.76448438634966Z</td>\n",
       "      <td>4.632674</td>\n",
       "    </tr>\n",
       "    <tr>\n",
       "      <th>19</th>\n",
       "      <td>2024-09-23 ==&gt; 18:03:21.53983903289999Z</td>\n",
       "      <td>2024-09-23 ==&gt; 18:12:32.39466502319904Z</td>\n",
       "      <td>9.180914</td>\n",
       "    </tr>\n",
       "    <tr>\n",
       "      <th>20</th>\n",
       "      <td>2024-09-23 ==&gt; 19:39:36.94268222028876Z</td>\n",
       "      <td>2024-09-23 ==&gt; 19:50:29.79651811127648Z</td>\n",
       "      <td>10.880897</td>\n",
       "    </tr>\n",
       "    <tr>\n",
       "      <th>21</th>\n",
       "      <td>2024-09-23 ==&gt; 21:18:09.66765714236937Z</td>\n",
       "      <td>2024-09-23 ==&gt; 21:24:17.72821303044084Z</td>\n",
       "      <td>6.134343</td>\n",
       "    </tr>\n",
       "  </tbody>\n",
       "</table>\n",
       "</div>"
      ],
      "text/plain": [
       "                            Elevation Entry  \\\n",
       "0    2024-09-21 ==> 11:30:06.5968397148828Z   \n",
       "1   2024-09-21 ==> 13:06:19.63809645173625Z   \n",
       "2    2024-09-21 ==> 14:45:40.9846746831693Z   \n",
       "3   2024-09-21 ==> 16:26:09.64151862541522Z   \n",
       "4     2024-09-21 ==> 18:02:48.704279659255Z   \n",
       "5   2024-09-21 ==> 19:38:45.11280464009924Z   \n",
       "6   2024-09-21 ==> 21:15:42.71999607193062Z   \n",
       "7   2024-09-22 ==> 10:43:08.04729354293681Z   \n",
       "8   2024-09-22 ==> 12:18:16.52083483240853Z   \n",
       "9   2024-09-22 ==> 13:56:56.02055649876915Z   \n",
       "10  2024-09-22 ==> 15:37:35.87857215197076Z   \n",
       "11  2024-09-22 ==> 17:15:10.59568780679782Z   \n",
       "12   2024-09-22 ==> 18:51:03.2312719703547Z   \n",
       "13  2024-09-22 ==> 20:27:36.11559101262776Z   \n",
       "14   2024-09-23 ==> 09:56:45.5670245044039Z   \n",
       "15   2024-09-23 ==> 11:30:23.7643706604586Z   \n",
       "16  2024-09-23 ==> 13:08:17.59730253484795Z   \n",
       "17  2024-09-23 ==> 14:48:42.91595951906441Z   \n",
       "18   2024-09-23 ==> 16:27:26.8040183220917Z   \n",
       "19  2024-09-23 ==> 18:03:21.53983903289999Z   \n",
       "20  2024-09-23 ==> 19:39:36.94268222028876Z   \n",
       "21  2024-09-23 ==> 21:18:09.66765714236937Z   \n",
       "\n",
       "                             Elevation Exit  Duration (min)  \n",
       "0   2024-09-21 ==> 11:39:49.07620138853702Z        9.707989  \n",
       "1   2024-09-21 ==> 13:16:47.68992643520878Z       10.467530  \n",
       "2   2024-09-21 ==> 14:52:44.49653641284313Z        7.058531  \n",
       "3   2024-09-21 ==> 16:29:25.33492112747032Z        3.261557  \n",
       "4   2024-09-21 ==> 18:09:56.11815514665969Z        7.123565  \n",
       "5    2024-09-21 ==> 19:49:18.5129401698631Z       10.556669  \n",
       "6    2024-09-21 ==> 21:25:33.0483952283447Z        9.838807  \n",
       "7    2024-09-22 ==> 10:51:26.8689359597056Z        8.313694  \n",
       "8   2024-09-22 ==> 12:29:02.54716353705666Z       10.767105  \n",
       "9   2024-09-22 ==> 14:05:07.05650597276352Z        8.183932  \n",
       "10  2024-09-22 ==> 15:41:15.07772870865737Z        3.653319  \n",
       "11  2024-09-22 ==> 17:21:03.18651639636517Z        5.876514  \n",
       "12  2024-09-22 ==> 19:01:02.22916663935266Z        9.983298  \n",
       "13  2024-09-22 ==> 20:38:10.75862603338244Z       10.577384  \n",
       "14  2024-09-23 ==> 10:02:29.31970397431707Z        5.729211  \n",
       "15  2024-09-23 ==> 11:41:10.19841210276076Z       10.773901  \n",
       "16  2024-09-23 ==> 13:17:26.88405250114756Z        9.154779  \n",
       "17  2024-09-23 ==> 14:53:21.82537363778293Z        4.648490  \n",
       "18  2024-09-23 ==> 16:32:04.76448438634966Z        4.632674  \n",
       "19  2024-09-23 ==> 18:12:32.39466502319904Z        9.180914  \n",
       "20  2024-09-23 ==> 19:50:29.79651811127648Z       10.880897  \n",
       "21  2024-09-23 ==> 21:24:17.72821303044084Z        6.134343  "
      ]
     },
     "metadata": {},
     "output_type": "display_data"
    }
   ],
   "source": [
    "ele_events = ele_logger.getLoggedEvents()            \n",
    "\n",
    "entry_list = []\n",
    "exit_list = []\n",
    "duration_list = []\n",
    "\n",
    "for event in ele_events: \n",
    "    if event.isIncreasing():\n",
    "        ele_entry = event.getState().getDate()\n",
    "        entry_str = str(ele_entry).replace(\"T\", \" ==> \")\n",
    "        entry_list.append(entry_str)\n",
    "    else:\n",
    "        ele_exit = event.getState().getDate()\n",
    "        exit_str = str(ele_exit).replace(\"T\", \" ==> \")\n",
    "        exit_list.append(exit_str)\n",
    "\n",
    "        ele_duration = ele_exit.durationFrom(ele_entry) / 60  # Convert to minutes\n",
    "        duration_list.append(ele_duration)\n",
    "\n",
    "# Create the DataFrame\n",
    "df_ele = pd.DataFrame({\n",
    "    'Elevation Entry': entry_list,\n",
    "    'Elevation Exit': exit_list,\n",
    "    'Duration (min)': duration_list\n",
    "})\n",
    "\n",
    "# Display the DataFrame\n",
    "display(df_ele)"
   ]
  },
  {
   "cell_type": "markdown",
   "id": "dc58aef5-b108-49ea-b4d1-28996780396e",
   "metadata": {},
   "source": [
    "**Satellite Entry_Exit with Ground Sensor Field of View** "
   ]
  },
  {
   "cell_type": "code",
   "execution_count": 26,
   "id": "11c9eea4-f47d-43ef-be53-b13567ce6759",
   "metadata": {},
   "outputs": [
    {
     "data": {
      "text/html": [
       "<div>\n",
       "<style scoped>\n",
       "    .dataframe tbody tr th:only-of-type {\n",
       "        vertical-align: middle;\n",
       "    }\n",
       "\n",
       "    .dataframe tbody tr th {\n",
       "        vertical-align: top;\n",
       "    }\n",
       "\n",
       "    .dataframe thead th {\n",
       "        text-align: right;\n",
       "    }\n",
       "</style>\n",
       "<table border=\"1\" class=\"dataframe\">\n",
       "  <thead>\n",
       "    <tr style=\"text-align: right;\">\n",
       "      <th></th>\n",
       "      <th>Combined Entry</th>\n",
       "      <th>Combined Exit</th>\n",
       "      <th>Duration (min)</th>\n",
       "    </tr>\n",
       "  </thead>\n",
       "  <tbody>\n",
       "    <tr>\n",
       "      <th>0</th>\n",
       "      <td>2024-09-23 ==&gt; 11:35:30.02782853973246Z</td>\n",
       "      <td>2024-09-23 ==&gt; 11:36:01.4030665980785Z</td>\n",
       "      <td>0.671296</td>\n",
       "    </tr>\n",
       "    <tr>\n",
       "      <th>1</th>\n",
       "      <td>2024-09-23 ==&gt; 19:44:43.59295891017643Z</td>\n",
       "      <td>2024-09-23 ==&gt; 19:45:23.87070628906552Z</td>\n",
       "      <td>0.671296</td>\n",
       "    </tr>\n",
       "  </tbody>\n",
       "</table>\n",
       "</div>"
      ],
      "text/plain": [
       "                            Combined Entry  \\\n",
       "0  2024-09-23 ==> 11:35:30.02782853973246Z   \n",
       "1  2024-09-23 ==> 19:44:43.59295891017643Z   \n",
       "\n",
       "                             Combined Exit  Duration (min)  \n",
       "0   2024-09-23 ==> 11:36:01.4030665980785Z        0.671296  \n",
       "1  2024-09-23 ==> 19:45:23.87070628906552Z        0.671296  "
      ]
     },
     "metadata": {},
     "output_type": "display_data"
    }
   ],
   "source": [
    "comb_events = combined_logger.getLoggedEvents()            \n",
    "\n",
    "entry_list = []\n",
    "exit_list = []\n",
    "duration_list = []\n",
    "\n",
    "for event in comb_events: \n",
    "    if event.isIncreasing():\n",
    "        comb_entry = event.getState().getDate()\n",
    "        entry_str = str(comb_entry).replace(\"T\", \" ==> \")\n",
    "        entry_list.append(entry_str)\n",
    "    else:\n",
    "        comb_exit = event.getState().getDate()\n",
    "        exit_str = str(comb_exit).replace(\"T\", \" ==> \")\n",
    "        exit_list.append(exit_str)\n",
    "\n",
    "        comb_duration = comb_exit.durationFrom(comb_entry) / 60  # Convert to minutes\n",
    "        duration_list.append(gfov_duration)\n",
    "\n",
    "# Create the DataFrame\n",
    "df_comb = pd.DataFrame({\n",
    "    'Combined Entry': entry_list,\n",
    "    'Combined Exit': exit_list,\n",
    "    'Duration (min)': duration_list\n",
    "})\n",
    "\n",
    "# Display the DataFrame\n",
    "display(df_comb)"
   ]
  },
  {
   "cell_type": "code",
   "execution_count": null,
   "id": "eb6bd6f9-1fb9-43a3-81cf-1e23638743b8",
   "metadata": {},
   "outputs": [],
   "source": []
  }
 ],
 "metadata": {
  "kernelspec": {
   "display_name": "Python 3 (ipykernel)",
   "language": "python",
   "name": "python3"
  },
  "language_info": {
   "codemirror_mode": {
    "name": "ipython",
    "version": 3
   },
   "file_extension": ".py",
   "mimetype": "text/x-python",
   "name": "python",
   "nbconvert_exporter": "python",
   "pygments_lexer": "ipython3",
   "version": "3.12.3"
  }
 },
 "nbformat": 4,
 "nbformat_minor": 5
}
