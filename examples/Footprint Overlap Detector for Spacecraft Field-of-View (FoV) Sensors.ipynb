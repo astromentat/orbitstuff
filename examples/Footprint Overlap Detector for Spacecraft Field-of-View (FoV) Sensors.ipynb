{
 "cells": [
  {
   "cell_type": "markdown",
   "id": "1a0dbed2",
   "metadata": {},
   "source": [
    "# Footprint Overlap Detector for Spacecraft Field-of-View (FoV) Sensors (nadir orientation)"
   ]
  },
  {
   "cell_type": "markdown",
   "id": "5bfa6f25",
   "metadata": {},
   "source": [
    "A detector is triggered when a spacecraft's sensor enters or exits a specific geographical region within its Field of View (FoV). This detector combines features from both the FieldOfViewDetector and GeographicZoneDetector. Similar to the first detector, it activates upon entry or exit of targets in the FoV, factoring in the spacecraft’s attitude.\n",
    "\n",
    "The sensor's FoV can be defined in several ways:\n",
    "\n",
    "- Circular FoV – A simple circular area around the sensor.\n",
    "- Rectangular FoV – A rectangular area offering directional coverage.\n",
    "- Half Power Beam Width (HPBW) FoV – A field of view based on the sensor's HPBW, typically used in antenna beam modeling.\n",
    "\n",
    "The spacecraft's attitude is aligned in a **nadir** orientation.\n",
    "\n",
    "The FootprintOverlapDetector is compatible with any custom shapes. However, when defining coordinates for the area of interest, the input coordinates must be arranged consecutively in a counterclockwise direction.r."
   ]
  },
  {
   "cell_type": "code",
   "execution_count": 3,
   "id": "1a5436bf",
   "metadata": {},
   "outputs": [],
   "source": [
    "import orekit\n",
    "vm = orekit.initVM()\n",
    "\n",
    "from orekit.pyhelpers import setup_orekit_curdir\n",
    "setup_orekit_curdir()\n",
    "\n",
    "from org.orekit.attitudes import NadirPointing\n",
    "from org.orekit.bodies import OneAxisEllipsoid, GeodeticPoint\n",
    "from org.orekit.frames import FramesFactory\n",
    "from org.orekit.time import TimeScalesFactory, AbsoluteDate\n",
    "from org.orekit.utils import Constants, IERSConventions, PVCoordinatesProvider\n",
    "from org.orekit.propagation import SpacecraftState\n",
    "from org.orekit.propagation.analytical.tle import TLE, TLEPropagator\n",
    "from org.orekit.models.earth.tessellation import EllipsoidTessellator\n",
    "from org.orekit.propagation.events import EventDetector, EventsLogger, FootprintOverlapDetector\n",
    "from org.orekit.propagation.events.handlers import ContinueOnEvent, StopOnEvent\n",
    "from org.orekit.geometry.fov import DoubleDihedraFieldOfView, CircularFieldOfView\n",
    "from org.hipparchus.geometry.euclidean.threed import Vector3D, Line\n",
    "from org.hipparchus.geometry.spherical.twod import SphericalPolygonsSet\n",
    "\n",
    "from math import radians, degrees, pi, sqrt, atan\n",
    "import matplotlib.pyplot as plt\n",
    "import numpy as np\n",
    "import pandas as pd\n",
    "import re"
   ]
  },
  {
   "cell_type": "markdown",
   "id": "6e5a11d5",
   "metadata": {},
   "source": [
    "First call the frames and time scales to be used in the code and create Earth body."
   ]
  },
  {
   "cell_type": "code",
   "execution_count": 5,
   "id": "ba5b2090",
   "metadata": {},
   "outputs": [],
   "source": [
    "UTC = TimeScalesFactory.getUTC()                               # Define UTC time scale.\n",
    "ECI = FramesFactory.getEME2000()                               # Define ECI reference frame.\n",
    "ECEF = FramesFactory.getITRF(IERSConventions.IERS_2010, True)  # Define ECEF reference frame.\n",
    "TEME = FramesFactory.getTEME()                                 # Define TEME reference frame. \n",
    "ITRF = ECEF\n",
    "\n",
    "R_earth  = Constants.WGS84_EARTH_EQUATORIAL_RADIUS             # Radius of earth\n",
    "Mu_earth = Constants.WGS84_EARTH_MU                            # Gravitational parameter of earth\n",
    "f_earth  = Constants.WGS84_EARTH_FLATTENING                    # Earth flattening value\n",
    "\n",
    "earth = OneAxisEllipsoid(R_earth, f_earth, ITRF)               # Create earth here."
   ]
  },
  {
   "cell_type": "markdown",
   "id": "7ea3b63a",
   "metadata": {},
   "source": [
    "Here, we first take TLE as an input, and from the TLEPropagator we recieve its PV to get Kepler Elements."
   ]
  },
  {
   "cell_type": "code",
   "execution_count": 7,
   "id": "64d0a595",
   "metadata": {},
   "outputs": [
    {
     "name": "stdout",
     "output_type": "stream",
     "text": [
      "Propagation initial date:  2024-09-21T03:41:36.25584Z\n",
      "Propagation final date:  2024-09-24T03:41:36.25584Z\n"
     ]
    }
   ],
   "source": [
    "# ISS 25544\n",
    "tle_line1 = \"1 25544U 98067A   24265.15389185  .00020992  00000-0  38244-3 0  9995\"\n",
    "tle_line2 = \"2 25544  51.6375 200.0394 0007352  15.0244 345.0962 15.49404240473433\"\n",
    "mytle = TLE(tle_line1, tle_line2)\n",
    "\n",
    "initialDate = mytle.getDate()                   # This is the TLE epoch date read from first line.\n",
    "finalDate = initialDate.shiftedBy(3600.0 * 72)   # Shift initial date by x hours.\n",
    "\n",
    "print('Propagation initial date: ', initialDate)\n",
    "print('Propagation final date: ', finalDate)\n",
    "\n",
    "satellite_mass = 466615.0                        # Satellite mass [kg]\n",
    "attitudeProvider = NadirPointing(TEME, earth)    # Also provide attitude of the satellite\n",
    "\n",
    "SGP4 = TLEPropagator.selectExtrapolator(mytle, attitudeProvider, satellite_mass) "
   ]
  },
  {
   "cell_type": "markdown",
   "id": "0bf37d90",
   "metadata": {},
   "source": [
    "In the following parts, we are going to create a custom zone from lat/long coordinates."
   ]
  },
  {
   "cell_type": "markdown",
   "id": "93d8b0b7",
   "metadata": {},
   "source": [
    "### Creating the Region-of-Interest"
   ]
  },
  {
   "cell_type": "markdown",
   "id": "a632e718",
   "metadata": {},
   "source": [
    "If user wants to define custom coordinates, this cell can be used."
   ]
  },
  {
   "cell_type": "code",
   "execution_count": 11,
   "id": "09cb7824",
   "metadata": {},
   "outputs": [
    {
     "data": {
      "image/png": "[encoded data removed]",
      "text/plain": [
       "<Figure size 500x500 with 1 Axes>"
      ]
     },
     "metadata": {},
     "output_type": "display_data"
    }
   ],
   "source": [
    "##### User can choose any coordinates he/she wants. \n",
    "# Circular zone\n",
    "zone = [(40.85067, 32.84835), (40.72374, 32.24578), (40.37779, 31.81747), (39.94692, 31.68155),\n",
    "        (39.58290, 31.78467), (39.14025, 32.33309), (39.05024, 32.85494), (39.21487, 33.52164),\n",
    "        (39.70781, 33.97609), (39.94393, 34.02072), (40.36942, 33.89107), (40.78416, 33.29552),\n",
    "        (40.85067, 32.84835)]\n",
    "\n",
    "geodeticPoints2 = []\n",
    "for lat2, lon2 in zone:\n",
    "    geodeticPoints2.append(GeodeticPoint(radians(lat2), radians(lon2), 0.0))\n",
    "\n",
    "\n",
    "hyperplaneThickness = 1.0e-10\n",
    "\n",
    "region_polygon2 = EllipsoidTessellator.buildSimpleZone(hyperplaneThickness, geodeticPoints2)\n",
    "\n",
    "zone = list(zone)\n",
    "lat2 = [x for x,y in zone]\n",
    "lon2 = [y for x,y in zone]\n",
    "lat2 = np.array(lat2)\n",
    "\n",
    "# Plotting the region-of-interest\n",
    "fig = plt.figure(\"zone\")\n",
    "fig.set_figwidth(5)\n",
    "fig.set_figheight(5)\n",
    "plt.figure(1)\n",
    "plt.plot((lon2),(lat2))\n",
    "plt.show()"
   ]
  },
  {
   "cell_type": "markdown",
   "id": "adda6ae8",
   "metadata": {},
   "source": [
    "## Creating the Spacecraft FoV Sensor"
   ]
  },
  {
   "cell_type": "markdown",
   "id": "c9356a2e-f762-48b2-8bb5-258cf5b7261d",
   "metadata": {},
   "source": [
    "This function provides flexibility in creating different types of sensor field-of-view (FoV) models, each tailored to specific sensor configurations and mission requirements:\n",
    "\n",
    "- Circular FoV: Ideal for general coverage around the sensor.\n",
    "- Rectangular FoV: Suitable for directional coverage.\n",
    "- HPBW FoV: Typically used in antenna systems, taking into account frequency and sensor size.\n",
    " \n",
    "This enhances the versatility of satellite tracking and detection simulations based on user-defined sensor configurations."
   ]
  },
  {
   "cell_type": "code",
   "execution_count": 14,
   "id": "a78a22f6-8f30-4a95-bd31-47573afe5169",
   "metadata": {},
   "outputs": [
    {
     "name": "stdout",
     "output_type": "stream",
     "text": [
      "Choose the type of Ground Field of View (FoV):\n",
      "1- Circular FoV\n",
      "2- Rectangular FoV\n",
      "3- Half Power Beam Width (HPBW) FoV\n"
     ]
    },
    {
     "name": "stdin",
     "output_type": "stream",
     "text": [
      "Enter your choice (1/2/3):  1\n",
      "Enter the half-angle of the circular FoV (degrees):  30\n"
     ]
    },
    {
     "name": "stdout",
     "output_type": "stream",
     "text": [
      "Circular FoV created.\n"
     ]
    }
   ],
   "source": [
    "# Function to create Field-Of-View based on user input\n",
    "def create_fov():\n",
    "    print(\"Choose the type of Ground Field of View (FoV):\")\n",
    "    print(\"1- Circular FoV\")\n",
    "    print(\"2- Rectangular FoV\")\n",
    "    print(\"3- Half Power Beam Width (HPBW) FoV\")\n",
    "\n",
    "    fov_choice = input(\"Enter your choice (1/2/3): \")\n",
    "\n",
    "    if fov_choice == \"1\":\n",
    "        # Circular Field-Of-View\n",
    "        circular_fov = input(\"Enter the half-angle of the circular FoV (degrees): \")\n",
    "        circular_fov = float(circular_fov)\n",
    "        fov_margin = 0.0\n",
    "        imagerFOV = CircularFieldOfView(Vector3D.PLUS_K, radians(circular_fov), fov_margin)\n",
    "        print(\"Circular FoV created.\")\n",
    "\n",
    "        \n",
    "    elif fov_choice == \"2\":\n",
    "        # Rectangular Field-Of-View\n",
    "        verticalfov  = input('Enter the vertical half-angle (in degrees) of the cone formed by the target and the ground detector: ')\n",
    "        verticalfov  = float(verticalfov)\n",
    "        horizontalfov  = input('Enter the horizontal half-angle (in degrees) of the cone formed by the target and the ground detector: ')\n",
    "        horizontalfov  = float(horizontalfov)\n",
    "        fov_margin = 0.0\n",
    "\n",
    "        # Create the Rectangular Field-Of-View\n",
    "        imagerFOV = DoubleDihedraFieldOfView(Vector3D.PLUS_K,             # center\n",
    "                                             Vector3D.PLUS_I,             # axis1\n",
    "                                             radians(verticalfov),   # halfAperture1\n",
    "                                             Vector3D.PLUS_J,             # axis2\n",
    "                                             radians(horizontalfov), # halfAperture2\n",
    "                                             fov_margin)                  # margin\n",
    "        print(\"Rectangular FoV created.\")\n",
    "        \n",
    "    elif fov_choice == \"3\":\n",
    "        frequency = input('Enter the frequency of s/c in GHz:  ')\n",
    "        frequency = float(frequency)\n",
    "        diameter = input('Enter the diameter of the sensor in meters:  ')\n",
    "        diameter = float(diameter)\n",
    "\n",
    "        half_angle = ((70*0.3)/(frequency*diameter))/2\n",
    "        xfov = half_angle\n",
    "        fov_margin = 0.0\n",
    "\n",
    "        imagerFOV = CircularFieldOfView(Vector3D.PLUS_K, radians(xfov), fov_margin)\n",
    "        print(\"HPBW FoV created.\")\n",
    "\n",
    "    else:\n",
    "        print(\"Invalid choice. Please select a valid option.\")\n",
    "        return create_fov()  # Recursion to prompt the user again if invalid input is given.\n",
    "\n",
    "    return imagerFOV\n",
    "\n",
    "# Call the function to create the appropriate Field-Of-View based on user input\n",
    "imagerFOV = create_fov()"
   ]
  },
  {
   "cell_type": "code",
   "execution_count": 15,
   "id": "40588a83",
   "metadata": {},
   "outputs": [],
   "source": [
    "sampling_step = 1000.0\n",
    " \n",
    "# Define FootprintOverlapDetector and add it to the propagator\n",
    "FPODetector = FootprintOverlapDetector(imagerFOV, earth, \n",
    "                                        region_polygon2, \n",
    "                                        sampling_step).withHandler(ContinueOnEvent())\n",
    "# Get the logger for events.\n",
    "FPO_logger = EventsLogger()\n",
    "\n",
    "# Add the detector to the SGP4 propagator\n",
    "SGP4.addEventDetector(FPO_logger.monitorDetector(FPODetector))"
   ]
  },
  {
   "cell_type": "markdown",
   "id": "31fbc471",
   "metadata": {},
   "source": [
    "Now start propagating the TLE with SGP4. Here, propagation interval has to be sufficiently small because if it is large, detectors may miss certain events."
   ]
  },
  {
   "cell_type": "code",
   "execution_count": 17,
   "id": "e9f370f1",
   "metadata": {},
   "outputs": [],
   "source": [
    "pos = []                                                       # position vector array to be filled.\n",
    "SGP4 = PVCoordinatesProvider.cast_(SGP4)\n",
    "###Start SGP4 propagation from initialDate up until finalDate\n",
    "while (initialDate.compareTo(finalDate) <= 0.0):\n",
    "    SGP4_pv = SGP4.getPVCoordinates(initialDate, ITRF)         # Get PV coordinates\n",
    "    posSGP4 = SGP4_pv.getPosition()                            # But we only want position vector.\n",
    "    pos.append((posSGP4.getX(),posSGP4.getY(),posSGP4.getZ())) # Get individual elements of position\n",
    "    posSGP4 = pos\n",
    "    initialDate = initialDate.shiftedBy(10.0)                  # Propagate with 10 sec intervals."
   ]
  },
  {
   "cell_type": "markdown",
   "id": "b31bf1a4",
   "metadata": {},
   "source": [
    "Finally the logged events are retrieved and printed in a readable way."
   ]
  },
  {
   "cell_type": "code",
   "execution_count": 29,
   "id": "3c923e79-1a10-43f0-bbfb-152e21aec2b0",
   "metadata": {},
   "outputs": [
    {
     "data": {
      "text/html": [
       "<div>\n",
       "<style scoped>\n",
       "    .dataframe tbody tr th:only-of-type {\n",
       "        vertical-align: middle;\n",
       "    }\n",
       "\n",
       "    .dataframe tbody tr th {\n",
       "        vertical-align: top;\n",
       "    }\n",
       "\n",
       "    .dataframe thead th {\n",
       "        text-align: right;\n",
       "    }\n",
       "</style>\n",
       "<table border=\"1\" class=\"dataframe\">\n",
       "  <thead>\n",
       "    <tr style=\"text-align: right;\">\n",
       "      <th></th>\n",
       "      <th>FPO Entry</th>\n",
       "      <th>FPO Exit</th>\n",
       "      <th>Duration (min)</th>\n",
       "    </tr>\n",
       "  </thead>\n",
       "  <tbody>\n",
       "    <tr>\n",
       "      <th>0</th>\n",
       "      <td>2024-09-21 ==&gt; 19:41:11.82761809454885Z</td>\n",
       "      <td>2024-09-21 ==&gt; 19:42:07.09510091506427Z</td>\n",
       "      <td>0.921125</td>\n",
       "    </tr>\n",
       "    <tr>\n",
       "      <th>1</th>\n",
       "      <td>2024-09-23 ==&gt; 13:12:07.35186319241265Z</td>\n",
       "      <td>2024-09-23 ==&gt; 13:13:24.03209857140225Z</td>\n",
       "      <td>1.278004</td>\n",
       "    </tr>\n",
       "    <tr>\n",
       "      <th>2</th>\n",
       "      <td>2024-09-23 ==&gt; 19:42:18.17181102465612Z</td>\n",
       "      <td>2024-09-23 ==&gt; 19:42:56.70862953374825Z</td>\n",
       "      <td>0.642280</td>\n",
       "    </tr>\n",
       "  </tbody>\n",
       "</table>\n",
       "</div>"
      ],
      "text/plain": [
       "                                 FPO Entry  \\\n",
       "0  2024-09-21 ==> 19:41:11.82761809454885Z   \n",
       "1  2024-09-23 ==> 13:12:07.35186319241265Z   \n",
       "2  2024-09-23 ==> 19:42:18.17181102465612Z   \n",
       "\n",
       "                                  FPO Exit  Duration (min)  \n",
       "0  2024-09-21 ==> 19:42:07.09510091506427Z        0.921125  \n",
       "1  2024-09-23 ==> 13:13:24.03209857140225Z        1.278004  \n",
       "2  2024-09-23 ==> 19:42:56.70862953374825Z        0.642280  "
      ]
     },
     "metadata": {},
     "output_type": "display_data"
    }
   ],
   "source": [
    "FPO_events = FPO_logger.getLoggedEvents()            \n",
    "\n",
    "entry_list = []\n",
    "exit_list = []\n",
    "duration_list = []\n",
    "\n",
    "\n",
    "for event in FPO_events: \n",
    "    if not event.isIncreasing():\n",
    "        fpo_entry = event.getState().getDate()\n",
    "        entry_str = str(fpo_entry).replace(\"T\", \" ==> \")\n",
    "        entry_list.append(entry_str)\n",
    "    else:\n",
    "        fpo_exit = event.getState().getDate()\n",
    "        exit_str = str(fpo_exit).replace(\"T\", \" ==> \")\n",
    "        exit_list.append(exit_str)\n",
    "\n",
    "        fpo_duration = fpo_exit.durationFrom(fpo_entry) / 60  # Convert to minutes\n",
    "        duration_list.append(fpo_duration)\n",
    "\n",
    "# Create the DataFrame\n",
    "df_fpo = pd.DataFrame({\n",
    "    'FPO Entry': entry_list,\n",
    "    'FPO Exit': exit_list,\n",
    "    'Duration (min)': duration_list\n",
    "})\n",
    "\n",
    "# Display the DataFrame\n",
    "display(df_fpo)"
   ]
  },
  {
   "cell_type": "code",
   "execution_count": null,
   "id": "352b33ee-ae06-4a09-861c-d0c6f6c735e4",
   "metadata": {},
   "outputs": [],
   "source": []
  }
 ],
 "metadata": {
  "kernelspec": {
   "display_name": "Python 3 (ipykernel)",
   "language": "python",
   "name": "python3"
  },
  "language_info": {
   "codemirror_mode": {
    "name": "ipython",
    "version": 3
   },
   "file_extension": ".py",
   "mimetype": "text/x-python",
   "name": "python",
   "nbconvert_exporter": "python",
   "pygments_lexer": "ipython3",
   "version": "3.12.3"
  }
 },
 "nbformat": 4,
 "nbformat_minor": 5
}
