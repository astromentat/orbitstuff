{
 "cells": [
  {
   "cell_type": "markdown",
   "id": "1a0dbed2",
   "metadata": {},
   "source": [
    "# Latitude/Longitude Crossing Detector"
   ]
  },
  {
   "cell_type": "markdown",
   "id": "edb34ab2",
   "metadata": {},
   "source": [
    "Detectors for geographic latitude and longitude crossings.\n",
    "\n",
    "These detectors identify when a spacecraft crosses a fixed latitude or longitude with respect to a central body (earth in this case).\n",
    "\n"
   ]
  },
  {
   "cell_type": "code",
   "execution_count": 3,
   "id": "1a5436bf",
   "metadata": {},
   "outputs": [],
   "source": [
    "import orekit\n",
    "vm = orekit.initVM()\n",
    "\n",
    "from orekit.pyhelpers import setup_orekit_curdir\n",
    "setup_orekit_curdir()\n",
    "\n",
    "from org.orekit.attitudes import NadirPointing\n",
    "from org.orekit.bodies import OneAxisEllipsoid, GeodeticPoint\n",
    "from org.orekit.frames import FramesFactory\n",
    "from org.orekit.time import TimeScalesFactory, AbsoluteDate\n",
    "from org.orekit.utils import Constants, IERSConventions, PVCoordinatesProvider\n",
    "from org.orekit.propagation import SpacecraftState\n",
    "from org.orekit.propagation.analytical.tle import TLE, TLEPropagator\n",
    "from org.orekit.models.earth.tessellation import EllipsoidTessellator\n",
    "from org.orekit.propagation.events import EventDetector, EventsLogger, LatitudeCrossingDetector, LongitudeCrossingDetector, BooleanDetector\n",
    "from org.orekit.propagation.events.handlers import ContinueOnEvent, StopOnEvent\n",
    "\n",
    "from math import radians, degrees, pi, sqrt, atan\n",
    "import matplotlib.pyplot as plt\n",
    "import pandas as pd\n",
    "import numpy as np\n",
    "import re"
   ]
  },
  {
   "cell_type": "markdown",
   "id": "6e5a11d5",
   "metadata": {},
   "source": [
    "First call the frames and time scales to be used in the code and create Earth body."
   ]
  },
  {
   "cell_type": "code",
   "execution_count": 5,
   "id": "ba5b2090",
   "metadata": {},
   "outputs": [],
   "source": [
    "UTC = TimeScalesFactory.getUTC()                               # Define UTC time scale.\n",
    "ECI = FramesFactory.getEME2000()                               # Define ECI reference frame.\n",
    "ECEF = FramesFactory.getITRF(IERSConventions.IERS_2010, True)  # Define ECEF reference frame.\n",
    "TEME = FramesFactory.getTEME()                                 # Define TEME reference frame. \n",
    "ITRF = ECEF\n",
    "\n",
    "R_earth  = Constants.WGS84_EARTH_EQUATORIAL_RADIUS             # Radius of earth\n",
    "Mu_earth = Constants.WGS84_EARTH_MU                            # Gravitational parameter of earth\n",
    "f_earth  = Constants.WGS84_EARTH_FLATTENING                    # Earth flattening value\n",
    "\n",
    "earth = OneAxisEllipsoid(R_earth, f_earth, ITRF)               # Create earth here."
   ]
  },
  {
   "cell_type": "markdown",
   "id": "7ea3b63a",
   "metadata": {},
   "source": [
    "Here, we first take TLE as an input, and from the TLEPropagator we recieve its PV to get Kepler Elements."
   ]
  },
  {
   "cell_type": "code",
   "execution_count": 7,
   "id": "64d0a595",
   "metadata": {},
   "outputs": [
    {
     "name": "stdout",
     "output_type": "stream",
     "text": [
      "Propagation initial date:  2024-09-14T04:29:48.686784Z\n",
      "Propagation final date:  2024-09-14T14:29:48.686784Z\n"
     ]
    }
   ],
   "source": [
    "# ISS 25544\n",
    "tle_line1 = \"1 25544U 98067A   24258.18736906  .00032830  00000-0  59922-3 0  9997\"\n",
    "tle_line2 = \"2 25544  51.6361 234.5150 0007532 350.4194   9.6649 15.49087105472352\"\n",
    "\n",
    "mytle = TLE(tle_line1, tle_line2)\n",
    "\n",
    "initialDate = mytle.getDate()                    # This is the TLE epoch date read from first line.\n",
    "finalDate = initialDate.shiftedBy(3600.0 * 10)   # Shift initial date by x hours.\n",
    "\n",
    "print('Propagation initial date: ', initialDate)\n",
    "print('Propagation final date: ', finalDate)\n",
    "\n",
    "satellite_mass = 466615.0                        # Satellite mass [kg]\n",
    "attitudeProvider = NadirPointing(TEME, earth)    # Also provide attitude of the satellite\n",
    "\n",
    "SGP4 = TLEPropagator.selectExtrapolator(mytle, attitudeProvider, satellite_mass) "
   ]
  },
  {
   "cell_type": "markdown",
   "id": "72837119-6de9-488d-835e-1980361c22a9",
   "metadata": {},
   "source": [
    "Prompts the user to input entry and exit latitudes and longitudes. It then converts the input values from degrees to radians for use in calculations involving spherical coordinates."
   ]
  },
  {
   "cell_type": "code",
   "execution_count": 9,
   "id": "40588a83",
   "metadata": {},
   "outputs": [
    {
     "name": "stdin",
     "output_type": "stream",
     "text": [
      "Entry Latitude:   0\n",
      "Exit Latitude:   20\n",
      "Entry Longitude:   0\n",
      "Exit Longitude:   20\n"
     ]
    }
   ],
   "source": [
    "latitude_entry = input('Entry Latitude:  ')\n",
    "latitude_entry = radians(float(latitude_entry))\n",
    "latitude_exit = input('Exit Latitude:  ')\n",
    "latitude_exit = radians(float(latitude_exit))\n",
    "\n",
    "longitude_entry = input('Entry Longitude:  ')\n",
    "longitude_entry = radians(float(longitude_entry))\n",
    "longitude_exit = input('Exit Longitude:  ')\n",
    "longitude_exit = radians(float(longitude_exit))"
   ]
  },
  {
   "cell_type": "code",
   "execution_count": 10,
   "id": "9e63bb9f-665d-4e2b-b9e4-6ca6c1d6ca74",
   "metadata": {},
   "outputs": [],
   "source": [
    "# Define a LatitudeCrossingDetector for \"entrance\" and add it to the propagator\n",
    "lat_entry_Detector = LatitudeCrossingDetector(earth, latitude_entry).withHandler(ContinueOnEvent())\n",
    "lat_entry_logger = EventsLogger()\n",
    "\n",
    "# Define a LatitudeCrossingDetector for \"exit\" and add it to the propagator\n",
    "lat_exit_Detector = LatitudeCrossingDetector(earth, latitude_exit).withHandler(ContinueOnEvent())\n",
    "lat_exit_logger = EventsLogger()\n",
    "\n",
    "# Define a LongitudeCrossingDetector for \"entrance\" and add it to the propagator\n",
    "lon_entry_Detector = LongitudeCrossingDetector(earth, longitude_entry).withHandler(ContinueOnEvent())\n",
    "lon_entry_logger = EventsLogger()\n",
    "\n",
    "# Define a LongitudeCrossingDetector for \"exit\" and add it to the propagator\n",
    "lon_exit_Detector = LongitudeCrossingDetector(earth, longitude_exit).withHandler(ContinueOnEvent())\n",
    "lon_exit_logger = EventsLogger()\n",
    "\n",
    "# Add detectors to the SGP4 propagator\n",
    "SGP4.addEventDetector(lat_entry_logger.monitorDetector(lat_entry_Detector))\n",
    "SGP4.addEventDetector(lat_exit_logger.monitorDetector(lat_exit_Detector))\n",
    "SGP4.addEventDetector(lon_entry_logger.monitorDetector(lon_entry_Detector))\n",
    "SGP4.addEventDetector(lon_exit_logger.monitorDetector(lon_exit_Detector))"
   ]
  },
  {
   "cell_type": "markdown",
   "id": "212df622",
   "metadata": {},
   "source": [
    "If TLE is used, then we require a proper switch to Kepler Elements. This is done with Algorithm 4.2 from *Orbital Mechanics for Engineering Students, 3rd ed.* by Howard Curtis."
   ]
  },
  {
   "cell_type": "code",
   "execution_count": 12,
   "id": "273f16fa",
   "metadata": {},
   "outputs": [],
   "source": [
    "SGP4 = PVCoordinatesProvider.cast_(SGP4)\n",
    "\n",
    "Mu = 398600                                                # Standart grav. parameter (km^3/s^2)\n",
    "TLE_pv = SGP4.getPVCoordinates(initialDate, ECI)\n",
    "pos = TLE_pv.getPosition()                                 # Get position vector\n",
    "vel = TLE_pv.getVelocity()                                 # Get velocity vector\n",
    "acc = TLE_pv.getAcceleration()                             # Get acceleration vector\n",
    "\n",
    "pos = np.array([pos.getX(), pos.getY(), pos.getZ()])/1000  # Make position an array\n",
    "vel = np.array([vel.getX(), vel.getY(), vel.getZ()])/1000  # Make velocity an array\n",
    "\n",
    "pos_mag = sqrt(pos[0]**2 + pos[1]**2 + pos[2]**2)          # Find magnitude of position\n",
    "vel_mag = sqrt(vel[0]**2 + vel[1]**2 + vel[2]**2)          # Find magnitude of velocity\n",
    "velr= np.dot(vel, pos)/pos_mag                             # Find magnitude Vr\n",
    "\n",
    "h = np.cross(pos, vel)                                     # Find specific angular momentum vector\n",
    "h_mag = sqrt(h[0]**2 + h[1]**2 + h[2]**2)                  # Find specific angular momentum magnitude\n",
    "\n",
    "i = np.arccos(h[2]/h_mag)                                  # Find the inclination (rad)\n",
    "\n",
    "N = np.cross([0, 0, 1], h)                                 # Find \"Node Line\" vector\n",
    "N_mag = sqrt(N[0]**2 + N[1]**2 + N[2]**2)                  # Find \"Node Line\" magnitude\n",
    "\n",
    "\n",
    "if N[1]>=0:\n",
    "    raan = np.arccos(N[0]/N_mag)                           # Find RAAN with this IF block\n",
    "else:\n",
    "    raan = radians(360 - degrees(np.arccos(N[0]/N_mag)))\n",
    "\n",
    "e = (1/Mu)*((vel_mag**2-Mu/pos_mag)*pos-pos_mag*velr*vel)  # Find eccentricity vector\n",
    "e_mag = sqrt(np.dot(e,e))                                  # Find eccentricity magnitude\n",
    "\n",
    "if e[2]>=0:\n",
    "    aop = np.arccos(np.dot(N,e)/(N_mag*e_mag))             # Find Argument of Perigee with this block\n",
    "else:\n",
    "    aop = radians(360 - degrees(np.arccos(np.dot(N,e)/(N_mag*e_mag))))\n",
    "    \n",
    "if velr>=0:\n",
    "    ta = np.arccos(np.dot(e,pos)/(e_mag*pos_mag))          # Find True Anomaly with this IF block\n",
    "else:\n",
    "    ta = radians(360 - degrees(np.arccos(np.dot(e,pos)/(e_mag*pos_mag))))\n",
    "    \n",
    "a  = (h_mag**2/Mu)*(1/(1 - e_mag**2))*1000                 # Find Semimajor Axis in meters.\n",
    "\n",
    "a = float(a)\n",
    "e_mag = float(e_mag)\n",
    "i = float(i)\n",
    "aop = float(aop)\n",
    "raan = float(raan)\n",
    "ta = float(ta)\n",
    "\n",
    "ra = a*(e_mag + 1)/1000                                    # Find the apoapsis value in km.  \n",
    "ra = float(ra)"
   ]
  },
  {
   "cell_type": "markdown",
   "id": "31fbc471",
   "metadata": {},
   "source": [
    "Now start propagating the TLE with SGP4. Here, propagation interval has to be sufficiently small because if it is large, detectors may miss certain events."
   ]
  },
  {
   "cell_type": "code",
   "execution_count": 14,
   "id": "e9f370f1",
   "metadata": {},
   "outputs": [],
   "source": [
    "pos = []                                                       # position vector array to be filled.\n",
    "\n",
    "###Start SGP4 propagation from initialDate up until finalDate\n",
    "while (initialDate.compareTo(finalDate) <= 0.0):\n",
    "    SGP4_pv = SGP4.getPVCoordinates(initialDate, ITRF)         # Get PV coordinates\n",
    "    posSGP4 = SGP4_pv.getPosition()                            # But we only want position vector.\n",
    "    pos.append((posSGP4.getX(),posSGP4.getY(),posSGP4.getZ())) # Get individual elements of position\n",
    "    posSGP4 = pos\n",
    "    initialDate = initialDate.shiftedBy(10.0)                  # Propagate with 10 sec intervals."
   ]
  },
  {
   "cell_type": "markdown",
   "id": "80202433",
   "metadata": {},
   "source": [
    "### Displaying Latitude/Longitude Crossing Events"
   ]
  },
  {
   "cell_type": "markdown",
   "id": "b31bf1a4",
   "metadata": {},
   "source": [
    "Finally the logged events are retrieved and printed in a readable way."
   ]
  },
  {
   "cell_type": "code",
   "execution_count": 17,
   "id": "c283f1bc-f5ad-4f6d-85b2-69621ca03ec8",
   "metadata": {},
   "outputs": [
    {
     "data": {
      "text/html": [
       "<style type=\"text/css\">\n",
       "#T_883a3 th {\n",
       "  text-align: left;\n",
       "}\n",
       "#T_883a3_row0_col0, #T_883a3_row0_col1, #T_883a3_row1_col0, #T_883a3_row1_col1, #T_883a3_row2_col0, #T_883a3_row2_col1, #T_883a3_row3_col0, #T_883a3_row3_col1, #T_883a3_row4_col0, #T_883a3_row4_col1, #T_883a3_row5_col0, #T_883a3_row5_col1, #T_883a3_row6_col0, #T_883a3_row6_col1, #T_883a3_row7_col0, #T_883a3_row7_col1, #T_883a3_row8_col0, #T_883a3_row8_col1, #T_883a3_row9_col0, #T_883a3_row9_col1, #T_883a3_row10_col0, #T_883a3_row10_col1, #T_883a3_row11_col0, #T_883a3_row11_col1, #T_883a3_row12_col0, #T_883a3_row12_col1 {\n",
       "  text-align: left;\n",
       "}\n",
       "</style>\n",
       "<table id=\"T_883a3\">\n",
       "  <thead>\n",
       "    <tr>\n",
       "      <th class=\"blank level0\" >&nbsp;</th>\n",
       "      <th id=\"T_883a3_level0_col0\" class=\"col_heading level0 col0\" >Latitude Entries</th>\n",
       "      <th id=\"T_883a3_level0_col1\" class=\"col_heading level0 col1\" >Latitude Exits</th>\n",
       "    </tr>\n",
       "  </thead>\n",
       "  <tbody>\n",
       "    <tr>\n",
       "      <th id=\"T_883a3_level0_row0\" class=\"row_heading level0 row0\" >0</th>\n",
       "      <td id=\"T_883a3_row0_col0\" class=\"data row0 col0\" >2024-09-14T04:29:48.68764682977825Z</td>\n",
       "      <td id=\"T_883a3_row0_col1\" class=\"data row0 col1\" >2024-09-14T04:36:26.07966280836906Z</td>\n",
       "    </tr>\n",
       "    <tr>\n",
       "      <th id=\"T_883a3_level0_row1\" class=\"row_heading level0 row1\" >1</th>\n",
       "      <td id=\"T_883a3_row1_col0\" class=\"data row1 col0\" >2024-09-14T05:09:34.42924519521244Z</td>\n",
       "      <td id=\"T_883a3_row1_col1\" class=\"data row1 col1\" >2024-09-14T05:16:12.96598308907777Z</td>\n",
       "    </tr>\n",
       "    <tr>\n",
       "      <th id=\"T_883a3_level0_row2\" class=\"row_heading level0 row2\" >2</th>\n",
       "      <td id=\"T_883a3_row2_col0\" class=\"data row2 col0\" >2024-09-14T06:02:42.48118321600295Z</td>\n",
       "      <td id=\"T_883a3_row2_col1\" class=\"data row2 col1\" >2024-09-14T06:09:19.87122399109186Z</td>\n",
       "    </tr>\n",
       "    <tr>\n",
       "      <th id=\"T_883a3_level0_row3\" class=\"row_heading level0 row3\" >3</th>\n",
       "      <td id=\"T_883a3_row3_col0\" class=\"data row3 col0\" >2024-09-14T06:42:28.20561853388237Z</td>\n",
       "      <td id=\"T_883a3_row3_col1\" class=\"data row3 col1\" >2024-09-14T06:49:06.74104102964237Z</td>\n",
       "    </tr>\n",
       "    <tr>\n",
       "      <th id=\"T_883a3_level0_row4\" class=\"row_heading level0 row4\" >4</th>\n",
       "      <td id=\"T_883a3_row4_col0\" class=\"data row4 col0\" >2024-09-14T07:35:36.25931096678897Z</td>\n",
       "      <td id=\"T_883a3_row4_col1\" class=\"data row4 col1\" >2024-09-14T07:42:13.64738568468478Z</td>\n",
       "    </tr>\n",
       "    <tr>\n",
       "      <th id=\"T_883a3_level0_row5\" class=\"row_heading level0 row5\" >5</th>\n",
       "      <td id=\"T_883a3_row5_col0\" class=\"data row5 col0\" >2024-09-14T08:15:21.96658711653913Z</td>\n",
       "      <td id=\"T_883a3_row5_col1\" class=\"data row5 col1\" >2024-09-14T08:22:00.50068421203234Z</td>\n",
       "    </tr>\n",
       "    <tr>\n",
       "      <th id=\"T_883a3_level0_row6\" class=\"row_heading level0 row6\" >6</th>\n",
       "      <td id=\"T_883a3_row6_col0\" class=\"data row6 col0\" >2024-09-14T09:08:30.02202781416408Z</td>\n",
       "      <td id=\"T_883a3_row6_col1\" class=\"data row6 col1\" >2024-09-14T09:15:07.40814562798948Z</td>\n",
       "    </tr>\n",
       "    <tr>\n",
       "      <th id=\"T_883a3_level0_row7\" class=\"row_heading level0 row7\" >7</th>\n",
       "      <td id=\"T_883a3_row7_col0\" class=\"data row7 col0\" >2024-09-14T09:48:15.71214884049192Z</td>\n",
       "      <td id=\"T_883a3_row7_col1\" class=\"data row7 col1\" >2024-09-14T09:54:54.24491053924176Z</td>\n",
       "    </tr>\n",
       "    <tr>\n",
       "      <th id=\"T_883a3_level0_row8\" class=\"row_heading level0 row8\" >8</th>\n",
       "      <td id=\"T_883a3_row8_col0\" class=\"data row8 col0\" >2024-09-14T10:41:23.76933146745627Z</td>\n",
       "      <td id=\"T_883a3_row8_col1\" class=\"data row8 col1\" >2024-09-14T10:48:01.15350154514813Z</td>\n",
       "    </tr>\n",
       "    <tr>\n",
       "      <th id=\"T_883a3_level0_row9\" class=\"row_heading level0 row9\" >9</th>\n",
       "      <td id=\"T_883a3_row9_col0\" class=\"data row9 col0\" >2024-09-14T11:21:09.44230159528986Z</td>\n",
       "      <td id=\"T_883a3_row9_col1\" class=\"data row9 col1\" >2024-09-14T11:27:47.97371790631957Z</td>\n",
       "    </tr>\n",
       "    <tr>\n",
       "      <th id=\"T_883a3_level0_row10\" class=\"row_heading level0 row10\" >10</th>\n",
       "      <td id=\"T_883a3_row10_col0\" class=\"data row10 col0\" >2024-09-14T12:14:17.50121965397527Z</td>\n",
       "      <td id=\"T_883a3_row10_col1\" class=\"data row10 col1\" >2024-09-14T12:20:54.88345117328224Z</td>\n",
       "    </tr>\n",
       "    <tr>\n",
       "      <th id=\"T_883a3_level0_row11\" class=\"row_heading level0 row11\" >11</th>\n",
       "      <td id=\"T_883a3_row11_col0\" class=\"data row11 col0\" >2024-09-14T12:54:03.15704327677357Z</td>\n",
       "      <td id=\"T_883a3_row11_col1\" class=\"data row11 col1\" >2024-09-14T13:00:41.68710421547468Z</td>\n",
       "    </tr>\n",
       "    <tr>\n",
       "      <th id=\"T_883a3_level0_row12\" class=\"row_heading level0 row12\" >12</th>\n",
       "      <td id=\"T_883a3_row12_col0\" class=\"data row12 col0\" >2024-09-14T13:47:11.21769008316513Z</td>\n",
       "      <td id=\"T_883a3_row12_col1\" class=\"data row12 col1\" >2024-09-14T13:53:48.59799223561757Z</td>\n",
       "    </tr>\n",
       "  </tbody>\n",
       "</table>\n"
      ],
      "text/plain": [
       "<pandas.io.formats.style.Styler at 0x1cc7c5cc3e0>"
      ]
     },
     "metadata": {},
     "output_type": "display_data"
    }
   ],
   "source": [
    "lat_entry_events = lat_entry_logger.getLoggedEvents()\n",
    "\n",
    "# Log latitude entries\n",
    "lat_giris = [] \n",
    "for event in lat_entry_events: \n",
    "    lat_entry = str(event.getState().getDate())\n",
    "    lat_giris.append(lat_entry)\n",
    "    \n",
    "df_giris = pd.DataFrame(lat_giris, columns=[\"Latitude Entries\"])\n",
    "\n",
    "lat_exit_events = lat_exit_logger.getLoggedEvents()\n",
    "\n",
    "# Log latitude exits\n",
    "lat_cikis = [] \n",
    "for event in lat_exit_events: \n",
    "    lat_exit = str(event.getState().getDate())\n",
    "    lat_cikis.append(lat_exit)\n",
    "\n",
    "df_cikis = pd.DataFrame(lat_cikis, columns=[\"Latitude Exits\"])\n",
    "\n",
    "# Ensure both dataframes have the same number of rows\n",
    "min_length = min(len(df_giris), len(df_cikis))\n",
    "df_giris = df_giris[:min_length]\n",
    "df_cikis = df_cikis[:min_length]\n",
    "\n",
    "# Concatenate the dataframes side by side\n",
    "lat_df = pd.concat([df_giris, df_cikis], axis=1)\n",
    "\n",
    "# Entry-Exit Order Adjustment\n",
    "for i in range(len(lat_df)):\n",
    "    if lat_df[\"Latitude Entries\"][i] > lat_df[\"Latitude Exits\"][i]:\n",
    "        # Swap if entry is after exit\n",
    "        lat_df.at[i, \"Latitude Entries\"], lat_df.at[i, \"Latitude Exits\"] = (\n",
    "            lat_df.at[i, \"Latitude Exits\"],\n",
    "            lat_df.at[i, \"Latitude Entries\"],\n",
    "        )\n",
    "\n",
    "# Apply styling for left alignment of the table\n",
    "lat_df = lat_df.style.set_properties(**{'text-align': 'left'})\n",
    "lat_df = lat_df.set_table_styles([dict(selector = 'th', props=[('text-align', 'left')])])\n",
    "\n",
    "# Display the resulting DataFrame\n",
    "display(lat_df)\n"
   ]
  },
  {
   "cell_type": "code",
   "execution_count": 18,
   "id": "48861172-870c-4345-8262-5a6d85082900",
   "metadata": {},
   "outputs": [
    {
     "data": {
      "text/html": [
       "<style type=\"text/css\">\n",
       "#T_fe192 th {\n",
       "  text-align: left;\n",
       "}\n",
       "#T_fe192_row0_col0, #T_fe192_row0_col1, #T_fe192_row1_col0, #T_fe192_row1_col1, #T_fe192_row2_col0, #T_fe192_row2_col1, #T_fe192_row3_col0, #T_fe192_row3_col1, #T_fe192_row4_col0, #T_fe192_row4_col1, #T_fe192_row5_col0, #T_fe192_row5_col1 {\n",
       "  text-align: left;\n",
       "}\n",
       "</style>\n",
       "<table id=\"T_fe192\">\n",
       "  <thead>\n",
       "    <tr>\n",
       "      <th class=\"blank level0\" >&nbsp;</th>\n",
       "      <th id=\"T_fe192_level0_col0\" class=\"col_heading level0 col0\" >Longitude Entries</th>\n",
       "      <th id=\"T_fe192_level0_col1\" class=\"col_heading level0 col1\" >Longitude Exits</th>\n",
       "    </tr>\n",
       "  </thead>\n",
       "  <tbody>\n",
       "    <tr>\n",
       "      <th id=\"T_fe192_level0_row0\" class=\"row_heading level0 row0\" >0</th>\n",
       "      <td id=\"T_fe192_row0_col0\" class=\"data row0 col0\" >2024-09-14T05:24:12.71088766888187Z</td>\n",
       "      <td id=\"T_fe192_row0_col1\" class=\"data row0 col1\" >2024-09-14T05:30:32.7468632251297Z</td>\n",
       "    </tr>\n",
       "    <tr>\n",
       "      <th id=\"T_fe192_level0_row1\" class=\"row_heading level0 row1\" >1</th>\n",
       "      <td id=\"T_fe192_row1_col0\" class=\"data row1 col0\" >2024-09-14T07:04:20.78486642172347Z</td>\n",
       "      <td id=\"T_fe192_row1_col1\" class=\"data row1 col1\" >2024-09-14T07:08:33.00660350720993Z</td>\n",
       "    </tr>\n",
       "    <tr>\n",
       "      <th id=\"T_fe192_level0_row2\" class=\"row_heading level0 row2\" >2</th>\n",
       "      <td id=\"T_fe192_row2_col0\" class=\"data row2 col0\" >2024-09-14T08:42:06.30554282074794Z</td>\n",
       "      <td id=\"T_fe192_row2_col1\" class=\"data row2 col1\" >2024-09-14T08:45:31.70029489215825Z</td>\n",
       "    </tr>\n",
       "    <tr>\n",
       "      <th id=\"T_fe192_level0_row3\" class=\"row_heading level0 row3\" >3</th>\n",
       "      <td id=\"T_fe192_row3_col0\" class=\"data row3 col0\" >2024-09-14T10:19:01.74572367050683Z</td>\n",
       "      <td id=\"T_fe192_row3_col1\" class=\"data row3 col1\" >2024-09-14T10:22:34.06398196755389Z</td>\n",
       "    </tr>\n",
       "    <tr>\n",
       "      <th id=\"T_fe192_level0_row4\" class=\"row_heading level0 row4\" >4</th>\n",
       "      <td id=\"T_fe192_row4_col0\" class=\"data row4 col0\" >2024-09-14T11:56:09.99867476008835Z</td>\n",
       "      <td id=\"T_fe192_row4_col1\" class=\"data row4 col1\" >2024-09-14T12:00:47.89509437320942Z</td>\n",
       "    </tr>\n",
       "    <tr>\n",
       "      <th id=\"T_fe192_level0_row5\" class=\"row_heading level0 row5\" >5</th>\n",
       "      <td id=\"T_fe192_row5_col0\" class=\"data row5 col0\" >2024-09-14T13:34:42.89565699888369Z</td>\n",
       "      <td id=\"T_fe192_row5_col1\" class=\"data row5 col1\" >2024-09-14T13:41:53.1093184725007Z</td>\n",
       "    </tr>\n",
       "  </tbody>\n",
       "</table>\n"
      ],
      "text/plain": [
       "<pandas.io.formats.style.Styler at 0x1cc7c5831a0>"
      ]
     },
     "metadata": {},
     "output_type": "display_data"
    }
   ],
   "source": [
    "# Log longitude entry events\n",
    "lon_entry_events = lon_entry_logger.getLoggedEvents()\n",
    "lon_giris = [] \n",
    "for event in lon_entry_events: \n",
    "    lon_entry = str(event.getState().getDate())\n",
    "    lon_giris.append(lon_entry)\n",
    "    \n",
    "df_giris = pd.DataFrame(lon_giris, columns=[\"Longitude Entries\"])\n",
    "\n",
    "# Log longitude exit events\n",
    "lon_exit_events = lon_exit_logger.getLoggedEvents()\n",
    "lon_cikis = [] \n",
    "for event in lon_exit_events: \n",
    "    lon_exit = str(event.getState().getDate())\n",
    "    lon_cikis.append(lon_exit)\n",
    "\n",
    "df_cikis = pd.DataFrame(lon_cikis, columns=[\"Longitude Exits\"])\n",
    "\n",
    "# Ensure both dataframes have the same number of rows\n",
    "min_length = min(len(df_giris), len(df_cikis))\n",
    "df_giris = df_giris[:min_length]\n",
    "df_cikis = df_cikis[:min_length]\n",
    "\n",
    "# Concatenate the dataframes side by side\n",
    "lon_df = pd.concat([df_giris, df_cikis], axis=1)\n",
    "\n",
    "# Longitude Entry-Exit Order Adjustment\n",
    "for i in range(len(lon_df)):\n",
    "    if lon_df[\"Longitude Entries\"][i] > lon_df[\"Longitude Exits\"][i]:\n",
    "        # Swap if entry is after exit\n",
    "        lon_df.at[i, \"Longitude Entries\"], lon_df.at[i, \"Longitude Exits\"] = (\n",
    "            lon_df.at[i, \"Longitude Exits\"],\n",
    "            lon_df.at[i, \"Longitude Entries\"],\n",
    "        )\n",
    "\n",
    "# Apply styling for left alignment of the table\n",
    "lon_df = lon_df.style.set_properties(**{'text-align': 'left'})\n",
    "lon_df = lon_df.set_table_styles([dict(selector = 'th', props=[('text-align', 'left')])])\n",
    "\n",
    "# Display the resulting DataFrame\n",
    "display(lon_df)\n"
   ]
  }
 ],
 "metadata": {
  "kernelspec": {
   "display_name": "Python 3 (ipykernel)",
   "language": "python",
   "name": "python3"
  },
  "language_info": {
   "codemirror_mode": {
    "name": "ipython",
    "version": 3
   },
   "file_extension": ".py",
   "mimetype": "text/x-python",
   "name": "python",
   "nbconvert_exporter": "python",
   "pygments_lexer": "ipython3",
   "version": "3.12.3"
  }
 },
 "nbformat": 4,
 "nbformat_minor": 5
}
