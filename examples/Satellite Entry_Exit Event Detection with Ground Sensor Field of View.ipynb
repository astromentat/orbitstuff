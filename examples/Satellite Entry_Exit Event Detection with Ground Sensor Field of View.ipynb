{
 "cells": [
  {
   "cell_type": "markdown",
   "id": "1a0dbed2",
   "metadata": {},
   "source": [
    "# Satellite Entry/Exit Event Detection with Ground Sensor Field of View "
   ]
  },
  {
   "cell_type": "markdown",
   "id": "5bfa6f25",
   "metadata": {},
   "source": [
    "The FoV of the ground sensor is represented as different shapes.\n",
    "\n",
    "- Circular FoV – A simple circular field of view around the sensor.\n",
    "- Rectangular FoV – A rectangular field of view providing directional coverage.\n",
    "- Half Power Beam Width (HPBW) FoV – A field of view based on the sensor’s Half Power Beam Width, typically used for antenna beam modeling.\n",
    "\n",
    "The sensor's attitude can be adjusted to deviate from the zenith orientation by specifying three consecutive rotation angles. If no specific attitude adjustment is needed, these rotation angles should be set to 0 degrees.\n",
    "\n",
    "Additionally, the code includes three detectors:\n",
    "- GroundFieldOfViewDetector\n",
    "- ElevationDetector\n",
    "- BooleanDetector\n"
   ]
  },
  {
   "cell_type": "code",
   "execution_count": 3,
   "id": "1a5436bf",
   "metadata": {},
   "outputs": [],
   "source": [
    "import orekit\n",
    "vm = orekit.initVM()\n",
    "\n",
    "from orekit.pyhelpers import setup_orekit_curdir\n",
    "setup_orekit_curdir()\n",
    "\n",
    "from org.orekit.attitudes import NadirPointing, LofOffset\n",
    "from org.orekit.bodies import OneAxisEllipsoid, GeodeticPoint\n",
    "from org.orekit.frames import FramesFactory, LOFType, TopocentricFrame, Frame, Transform\n",
    "from org.orekit.time import TimeScalesFactory, AbsoluteDate\n",
    "from org.orekit.utils import Constants, IERSConventions, PVCoordinatesProvider\n",
    "from org.orekit.propagation import SpacecraftState\n",
    "from org.orekit.propagation.analytical.tle import TLE, TLEPropagator\n",
    "from org.orekit.models.earth.tessellation import EllipsoidTessellator\n",
    "from org.orekit.propagation.events import EventDetector, EventsLogger, ElevationDetector, GroundFieldOfViewDetector, BooleanDetector\n",
    "from org.orekit.propagation.events.handlers import ContinueOnEvent, StopOnEvent\n",
    "from org.orekit.geometry.fov import CircularFieldOfView, DoubleDihedraFieldOfView\n",
    "\n",
    "from org.hipparchus.geometry.euclidean.threed import Vector3D, Line, RotationOrder, Rotation, RotationConvention\n",
    "from org.hipparchus.geometry.spherical.twod import SphericalPolygonsSet\n",
    "\n",
    "from math import radians, degrees, pi, sqrt, atan\n",
    "import matplotlib.pyplot as plt\n",
    "import numpy as np\n",
    "import pandas as pd\n",
    "import re"
   ]
  },
  {
   "cell_type": "markdown",
   "id": "6e5a11d5",
   "metadata": {},
   "source": [
    "First call the frames and time scales to be used in the code and create Earth body."
   ]
  },
  {
   "cell_type": "code",
   "execution_count": 5,
   "id": "ba5b2090",
   "metadata": {},
   "outputs": [],
   "source": [
    "UTC = TimeScalesFactory.getUTC()                               # Define UTC time scale.\n",
    "ECI = FramesFactory.getEME2000()                               # Define ECI reference frame.\n",
    "ECEF = FramesFactory.getITRF(IERSConventions.IERS_2010, True)  # Define ECEF reference frame.\n",
    "TEME = FramesFactory.getTEME()                                 # Define TEME reference frame. \n",
    "ITRF = ECEF\n",
    "\n",
    "R_earth  = Constants.WGS84_EARTH_EQUATORIAL_RADIUS             # Radius of earth\n",
    "Mu_earth = Constants.WGS84_EARTH_MU                            # Gravitational parameter of earth\n",
    "f_earth  = Constants.WGS84_EARTH_FLATTENING                    # Earth flattening value\n",
    "\n",
    "earth = OneAxisEllipsoid(R_earth, f_earth, ITRF)               # Create earth here."
   ]
  },
  {
   "cell_type": "markdown",
   "id": "7ea3b63a",
   "metadata": {},
   "source": [
    "Here, we first take TLE as an input, and from the *TLEPropagator* method we recieve its PV to get Kepler Elements."
   ]
  },
  {
   "cell_type": "code",
   "execution_count": 7,
   "id": "64d0a595",
   "metadata": {},
   "outputs": [
    {
     "name": "stdout",
     "output_type": "stream",
     "text": [
      "Propagation initial date:  2024-09-21T03:41:36.25584Z\n",
      "Propagation final date:  2024-09-24T03:41:36.25584Z\n"
     ]
    }
   ],
   "source": [
    "# ISS 25544\n",
    "tle_line1 = \"1 25544U 98067A   24265.15389185  .00020992  00000-0  38244-3 0  9995\"\n",
    "tle_line2 = \"2 25544  51.6375 200.0394 0007352  15.0244 345.0962 15.49404240473433\"\n",
    "mytle = TLE(tle_line1, tle_line2)\n",
    "\n",
    "\n",
    "initialDate = mytle.getDate()                    # This is the TLE epoch date read from first line.\n",
    "finalDate = initialDate.shiftedBy(3600.0 * 72)   # Shift initial date by x hours.\n",
    "\n",
    "print('Propagation initial date: ', initialDate)\n",
    "print('Propagation final date: ', finalDate)\n",
    "\n",
    "satellite_mass = 466615.0                        # Satellite mass [kg]\n",
    "attitudeProvider = NadirPointing(TEME, earth)    # Also provide attitude of the satellite\n",
    "\n",
    "SGP4 = TLEPropagator.selectExtrapolator(mytle, attitudeProvider, satellite_mass) "
   ]
  },
  {
   "cell_type": "markdown",
   "id": "5a20d0ee",
   "metadata": {},
   "source": [
    "Geodetic coordinates (lat/long/alt) of the ground station must be defined below. Coordinate frame of the station is accepted as *TopocentricFrame*. This frame is associated to a position near the surface of a body shape.\n",
    "\n",
    "The origin of the frame is at the defined geodetic point location, and the right-handed canonical trihedra is:\n",
    "\n",
    "- X axis in the local horizontal plane (normal to zenith direction) and following the local parallel towards East\n",
    "- Y axis in the horizontal plane (normal to zenith direction) and following the local meridian towards North\n",
    "- Z axis towards Zenith direction"
   ]
  },
  {
   "cell_type": "code",
   "execution_count": 9,
   "id": "515e4af8",
   "metadata": {},
   "outputs": [
    {
     "name": "stdin",
     "output_type": "stream",
     "text": [
      "Latitude (degree):   35\n",
      "Longitude (degree):   32\n",
      "Altitude (meter):   0\n"
     ]
    }
   ],
   "source": [
    "# Define the ground station location\n",
    "latitude  = input('Latitude (degree):  ') \n",
    "latitude  = radians(float(latitude))\n",
    "longitude = input('Longitude (degree):  ')\n",
    "longitude = radians(float(longitude))\n",
    "altitude  = input('Altitude (meter):  ')\n",
    "altitude  = (float(altitude))\n",
    "\n",
    "# Frame of the ground station is given as Topocentric Frame.\n",
    "station_gp = GeodeticPoint(latitude, longitude, altitude)\n",
    "station_frame = TopocentricFrame(earth, station_gp, \"topo\")"
   ]
  },
  {
   "cell_type": "markdown",
   "id": "0bf37d90",
   "metadata": {},
   "source": [
    "In the following parts, we are going to create ground sensor with different FoV shapes using related lat/long/alt coordinates."
   ]
  },
  {
   "cell_type": "markdown",
   "id": "f3354b9e",
   "metadata": {},
   "source": [
    "### Rotations with Respective Axes"
   ]
  },
  {
   "cell_type": "markdown",
   "id": "d5eaa928",
   "metadata": {},
   "source": [
    "The ground station frame is defined as topocentric. Based on this definition, the user can rotate this frame to achieve the desired attitude for the ground sensor.\n",
    "\n",
    "In this code, **rotations are applied in the X-Y-Z order**. This means the topocentric frame is first rotated around the X axis, followed by the Y axis, and then the Z axis. While the rotation order can be modified, it's important to note that starting with a rotation around the Z axis is more prone to errors."
   ]
  },
  {
   "cell_type": "code",
   "execution_count": 13,
   "id": "e4fd7516",
   "metadata": {},
   "outputs": [
    {
     "name": "stdin",
     "output_type": "stream",
     "text": [
      "Enter the first rotation angle in degrees:   0\n",
      "Enter the second rotation angle in degrees:   0\n",
      "Enter the third rotation angle in degrees:   0\n"
     ]
    }
   ],
   "source": [
    "# Using MINUS for X and Y axes, and PLUS for Z axis in this code. Our notation becomes:\n",
    "# (X = East, Y = North, Z = Zenith)\n",
    "# which is the definition of topocentric frame in Orekit.\n",
    "rotation1 = input('Enter the first rotation angle in degrees:  ')\n",
    "rotation1 = radians(float(rotation1))\n",
    "rotation2 = input('Enter the second rotation angle in degrees:  ')\n",
    "rotation2 = radians(float(rotation2))\n",
    "rotation3 = input('Enter the third rotation angle in degrees:  ')\n",
    "rotation3 = radians(float(rotation3))\n",
    "\n",
    "# If rotation vectors are entered PLUS instead of MINUS, then the correct XYZ notation becomes:\n",
    "# (X = West, Y = South, Z = Zenith)\n",
    "\n",
    "# First rotation\n",
    "rotation = Transform(AbsoluteDate.ARBITRARY_EPOCH, Rotation(Vector3D.MINUS_I, rotation1, RotationConvention.VECTOR_OPERATOR))\n",
    "myFoVFrame = Frame(station_frame, rotation, \"myFovFrame\")\n",
    "# Second rotation\n",
    "rotation = Transform(AbsoluteDate.ARBITRARY_EPOCH, Rotation(Vector3D.MINUS_J, rotation2, RotationConvention.VECTOR_OPERATOR))\n",
    "myFoVFrame = Frame(myFoVFrame, rotation, \"myFovFrame\")\n",
    "# Third rotation\n",
    "rotation = Transform(AbsoluteDate.ARBITRARY_EPOCH, Rotation(Vector3D.PLUS_K, rotation3, RotationConvention.VECTOR_OPERATOR))\n",
    "myFoVFrame = Frame(myFoVFrame, rotation, \"myFovFrame\")"
   ]
  },
  {
   "cell_type": "markdown",
   "id": "fc941d93",
   "metadata": {},
   "source": [
    "After rotating our initial topocentric frame three times, we reach our desired attitude for the sensor attached to the ground station."
   ]
  },
  {
   "cell_type": "markdown",
   "id": "93d8b0b7",
   "metadata": {},
   "source": [
    "### Creating the Ground FoV Sensor "
   ]
  },
  {
   "cell_type": "markdown",
   "id": "adda6ae8",
   "metadata": {},
   "source": [
    "This function provides flexibility in creating different types of sensor field-of-view (FoV) models, each tailored to specific sensor configurations and mission requirements:\n",
    "\n",
    "- Circular FoV: Ideal for general coverage around the sensor.\n",
    "- Rectangular FoV: Suitable for directional coverage.\n",
    "- HPBW FoV: Typically used in antenna systems, taking into account frequency and sensor size.\n",
    " \n",
    "This enhances the versatility of satellite tracking and detection simulations based on user-defined sensor configurations."
   ]
  },
  {
   "cell_type": "code",
   "execution_count": 17,
   "id": "1e4e19a0-cc0b-4107-bec2-9069829cde50",
   "metadata": {},
   "outputs": [
    {
     "name": "stdout",
     "output_type": "stream",
     "text": [
      "Choose the type of Ground Field of View (FoV):\n",
      "1- Circular FoV\n",
      "2- Rectangular FoV\n",
      "3- Half Power Beam Width (HPBW) FoV\n"
     ]
    },
    {
     "name": "stdin",
     "output_type": "stream",
     "text": [
      "Enter your choice (1/2/3):  1\n",
      "Enter the half-angle of the circular FoV (degrees):  25\n"
     ]
    },
    {
     "name": "stdout",
     "output_type": "stream",
     "text": [
      "Circular FoV created.\n"
     ]
    }
   ],
   "source": [
    "# Function to create Field-Of-View based on user input\n",
    "def create_fov():\n",
    "    print(\"Choose the type of Ground Field of View (FoV):\")\n",
    "    print(\"1- Circular FoV\")\n",
    "    print(\"2- Rectangular FoV\")\n",
    "    print(\"3- Half Power Beam Width (HPBW) FoV\")\n",
    "\n",
    "    fov_choice = input(\"Enter your choice (1/2/3): \")\n",
    "\n",
    "    if fov_choice == \"1\":\n",
    "        # Circular Field-Of-View\n",
    "        circular_fov = input(\"Enter the half-angle of the circular FoV (degrees): \")\n",
    "        circular_fov = float(circular_fov)\n",
    "        fov_margin = 0.0\n",
    "        imagerFOV = CircularFieldOfView(Vector3D.PLUS_K, radians(circular_fov), fov_margin)\n",
    "        print(\"Circular FoV created.\")\n",
    "\n",
    "        \n",
    "    elif fov_choice == \"2\":\n",
    "        # Rectangular Field-Of-View\n",
    "        verticalfov  = input('Enter the vertical half-angle (in degrees) of the cone formed by the target and the ground detector: ')\n",
    "        verticalfov  = float(verticalfov)\n",
    "        horizontalfov  = input('Enter the horizontal half-angle (in degrees) of the cone formed by the target and the ground detector: ')\n",
    "        horizontalfov  = float(horizontalfov)\n",
    "        fov_margin = 0.0\n",
    "\n",
    "        # Create the Rectangular Field-Of-View\n",
    "        imagerFOV = DoubleDihedraFieldOfView(Vector3D.PLUS_K,             # center\n",
    "                                             Vector3D.PLUS_I,             # axis1\n",
    "                                             radians(verticalfov),   # halfAperture1\n",
    "                                             Vector3D.PLUS_J,             # axis2\n",
    "                                             radians(horizontalfov), # halfAperture2\n",
    "                                             fov_margin)                  # margin\n",
    "        print(\"Rectangular FoV created.\")\n",
    "        \n",
    "    elif fov_choice == \"3\":\n",
    "        frequency = input('Enter the frequency of s/c in GHz:  ')\n",
    "        frequency = float(frequency)\n",
    "        diameter = input('Enter the diameter of the sensor in meters:  ')\n",
    "        diameter = float(diameter)\n",
    "\n",
    "        half_angle = ((70*0.3)/(frequency*diameter))/2\n",
    "        xfov = half_angle\n",
    "        fov_margin = 0.0\n",
    "\n",
    "        imagerFOV = CircularFieldOfView(Vector3D.PLUS_K, radians(xfov), fov_margin)\n",
    "        print(\"HPBW FoV created.\")\n",
    "\n",
    "    else:\n",
    "        print(\"Invalid choice. Please select a valid option.\")\n",
    "        return create_fov()  # Recursion to prompt the user again if invalid input is given.\n",
    "\n",
    "    return imagerFOV\n",
    "\n",
    "# Call the function to create the appropriate Field-Of-View based on user input\n",
    "imagerFOV = create_fov()"
   ]
  },
  {
   "cell_type": "markdown",
   "id": "f6298a8f-db1a-4b8e-ab58-3381eea4816d",
   "metadata": {},
   "source": [
    "Defining FoV shape of the ground sensor and creating *GroundFieldOfViewDetector* together with *ElevationDetector* method. Finally these event detectors are combined with a *BooleanDetector*, and they are added to propagator for monitoring."
   ]
  },
  {
   "cell_type": "code",
   "execution_count": 19,
   "id": "40588a83",
   "metadata": {},
   "outputs": [],
   "source": [
    "# Define Ground Field of View Detector\n",
    "GFoVDetector = GroundFieldOfViewDetector(myFoVFrame, imagerFOV).withMaxCheck(5.0).withHandler(ContinueOnEvent())\n",
    "GFoV_logger = EventsLogger()\n",
    "\n",
    "# Define Elevation Detector\n",
    "horizon_limit = radians(0.0)\n",
    "eleDetector = ElevationDetector(station_frame).withConstantElevation(horizon_limit).withHandler(ContinueOnEvent())\n",
    "ele_logger = EventsLogger()\n",
    "\n",
    "#combinedDetector = BooleanDetector.andCombine([BooleanDetector.notCombine(GFoVDetector),eleDetector])\n",
    "combinedDetector = BooleanDetector.andCombine([BooleanDetector.notCombine(GFoVDetector),eleDetector])\n",
    "combined_logger = EventsLogger()\n",
    "\n",
    "# Add the seperate detectors to the SGP4 propagator\n",
    "SGP4.addEventDetector(GFoV_logger.monitorDetector(GFoVDetector))\n",
    "SGP4.addEventDetector(ele_logger.monitorDetector(eleDetector))\n",
    "SGP4.addEventDetector(combined_logger.monitorDetector(combinedDetector))"
   ]
  },
  {
   "cell_type": "markdown",
   "id": "31fbc471",
   "metadata": {},
   "source": [
    "Now start propagating the TLE with SGP4. Here, propagation interval has to be sufficiently small because if it is large, detectors may miss certain events."
   ]
  },
  {
   "cell_type": "code",
   "execution_count": 21,
   "id": "e9f370f1",
   "metadata": {},
   "outputs": [],
   "source": [
    "pos = []                                                       # position vector array to be filled.\n",
    "SGP4 = PVCoordinatesProvider.cast_(SGP4)\n",
    "###Start SGP4 propagation from initialDate up until finalDate\n",
    "while (initialDate.compareTo(finalDate) <= 0.0):\n",
    "    SGP4_pv = SGP4.getPVCoordinates(initialDate, ITRF)         # Get PV coordinates\n",
    "    posSGP4 = SGP4_pv.getPosition()                            # But we only want position vector.\n",
    "    pos.append((posSGP4.getX(),posSGP4.getY(),posSGP4.getZ())) # Get individual elements of position\n",
    "    posSGP4 = pos\n",
    "    initialDate = initialDate.shiftedBy(10.0)                  # Propagate with 10 sec intervals."
   ]
  },
  {
   "cell_type": "markdown",
   "id": "b31bf1a4",
   "metadata": {},
   "source": [
    "Finally the logged events are retrieved and printed in a readable way."
   ]
  },
  {
   "cell_type": "markdown",
   "id": "557370bc-5e17-44f1-89dd-5b54ef14b4cc",
   "metadata": {},
   "source": [
    "**Ground Field of View Detector** "
   ]
  },
  {
   "cell_type": "code",
   "execution_count": 24,
   "id": "f0e5206b-0295-4484-b8b5-9ebd6254e603",
   "metadata": {},
   "outputs": [
    {
     "data": {
      "text/html": [
       "<div>\n",
       "<style scoped>\n",
       "    .dataframe tbody tr th:only-of-type {\n",
       "        vertical-align: middle;\n",
       "    }\n",
       "\n",
       "    .dataframe tbody tr th {\n",
       "        vertical-align: top;\n",
       "    }\n",
       "\n",
       "    .dataframe thead th {\n",
       "        text-align: right;\n",
       "    }\n",
       "</style>\n",
       "<table border=\"1\" class=\"dataframe\">\n",
       "  <thead>\n",
       "    <tr style=\"text-align: right;\">\n",
       "      <th></th>\n",
       "      <th>GFoV Entry</th>\n",
       "      <th>GFoV Exit</th>\n",
       "      <th>Duration (min)</th>\n",
       "    </tr>\n",
       "  </thead>\n",
       "  <tbody>\n",
       "    <tr>\n",
       "      <th>0</th>\n",
       "      <td>2024-09-21 ==&gt; 13:10:20.94733983067657Z</td>\n",
       "      <td>2024-09-21 ==&gt; 13:11:10.75206554302383Z</td>\n",
       "      <td>0.830079</td>\n",
       "    </tr>\n",
       "    <tr>\n",
       "      <th>1</th>\n",
       "      <td>2024-09-23 ==&gt; 19:43:05.27890712249455Z</td>\n",
       "      <td>2024-09-23 ==&gt; 19:43:39.32391538482981Z</td>\n",
       "      <td>0.567417</td>\n",
       "    </tr>\n",
       "  </tbody>\n",
       "</table>\n",
       "</div>"
      ],
      "text/plain": [
       "                                GFoV Entry  \\\n",
       "0  2024-09-21 ==> 13:10:20.94733983067657Z   \n",
       "1  2024-09-23 ==> 19:43:05.27890712249455Z   \n",
       "\n",
       "                                 GFoV Exit  Duration (min)  \n",
       "0  2024-09-21 ==> 13:11:10.75206554302383Z        0.830079  \n",
       "1  2024-09-23 ==> 19:43:39.32391538482981Z        0.567417  "
      ]
     },
     "metadata": {},
     "output_type": "display_data"
    }
   ],
   "source": [
    "gfov_events = GFoV_logger.getLoggedEvents()            \n",
    "\n",
    "entry_list = []\n",
    "exit_list = []\n",
    "duration_list = []\n",
    "\n",
    "for event in gfov_events: \n",
    "    if not event.isIncreasing():\n",
    "        gfov_entry = event.getState().getDate()\n",
    "        entry_str = str(gfov_entry).replace(\"T\", \" ==> \")\n",
    "        entry_list.append(entry_str)\n",
    "    else:\n",
    "        gfov_exit = event.getState().getDate()\n",
    "        exit_str = str(gfov_exit).replace(\"T\", \" ==> \")\n",
    "        exit_list.append(exit_str)\n",
    "\n",
    "        gfov_duration = gfov_exit.durationFrom(gfov_entry) / 60  # Convert to minutes\n",
    "        duration_list.append(gfov_duration)\n",
    "\n",
    "# Create the DataFrame\n",
    "df_gfov = pd.DataFrame({\n",
    "    'GFoV Entry': entry_list,\n",
    "    'GFoV Exit': exit_list,\n",
    "    'Duration (min)': duration_list\n",
    "})\n",
    "\n",
    "# Display the DataFrame\n",
    "display(df_gfov)\n"
   ]
  },
  {
   "cell_type": "markdown",
   "id": "e5ba703e-42b8-4d1b-aeef-638a9d3da810",
   "metadata": {},
   "source": [
    "**Elevation Detector** "
   ]
  },
  {
   "cell_type": "code",
   "execution_count": 26,
   "id": "58946538-33fc-4410-91c6-ba5666d7c327",
   "metadata": {},
   "outputs": [
    {
     "data": {
      "text/html": [
       "<div>\n",
       "<style scoped>\n",
       "    .dataframe tbody tr th:only-of-type {\n",
       "        vertical-align: middle;\n",
       "    }\n",
       "\n",
       "    .dataframe tbody tr th {\n",
       "        vertical-align: top;\n",
       "    }\n",
       "\n",
       "    .dataframe thead th {\n",
       "        text-align: right;\n",
       "    }\n",
       "</style>\n",
       "<table border=\"1\" class=\"dataframe\">\n",
       "  <thead>\n",
       "    <tr style=\"text-align: right;\">\n",
       "      <th></th>\n",
       "      <th>Elevation Entry</th>\n",
       "      <th>Elevation Exit</th>\n",
       "      <th>Duration (min)</th>\n",
       "    </tr>\n",
       "  </thead>\n",
       "  <tbody>\n",
       "    <tr>\n",
       "      <th>0</th>\n",
       "      <td>2024-09-21 ==&gt; 11:31:04.3889233428157Z</td>\n",
       "      <td>2024-09-21 ==&gt; 11:38:05.34339719106884Z</td>\n",
       "      <td>7.015908</td>\n",
       "    </tr>\n",
       "    <tr>\n",
       "      <th>1</th>\n",
       "      <td>2024-09-21 ==&gt; 13:05:22.83878632906064Z</td>\n",
       "      <td>2024-09-21 ==&gt; 13:16:11.78402997851241Z</td>\n",
       "      <td>10.815754</td>\n",
       "    </tr>\n",
       "    <tr>\n",
       "      <th>2</th>\n",
       "      <td>2024-09-21 ==&gt; 14:43:15.87118737386536Z</td>\n",
       "      <td>2024-09-21 ==&gt; 14:52:36.8991363854342Z</td>\n",
       "      <td>9.350466</td>\n",
       "    </tr>\n",
       "    <tr>\n",
       "      <th>3</th>\n",
       "      <td>2024-09-21 ==&gt; 16:22:44.27060332866752Z</td>\n",
       "      <td>2024-09-21 ==&gt; 16:29:20.85334813285234Z</td>\n",
       "      <td>6.609712</td>\n",
       "    </tr>\n",
       "    <tr>\n",
       "      <th>4</th>\n",
       "      <td>2024-09-21 ==&gt; 18:00:41.84751944092243Z</td>\n",
       "      <td>2024-09-21 ==&gt; 18:08:13.30536373354693Z</td>\n",
       "      <td>7.524297</td>\n",
       "    </tr>\n",
       "    <tr>\n",
       "      <th>5</th>\n",
       "      <td>2024-09-21 ==&gt; 19:37:05.08287990613171Z</td>\n",
       "      <td>2024-09-21 ==&gt; 19:47:24.35938859211115Z</td>\n",
       "      <td>10.321275</td>\n",
       "    </tr>\n",
       "    <tr>\n",
       "      <th>6</th>\n",
       "      <td>2024-09-21 ==&gt; 21:13:47.77103591932551Z</td>\n",
       "      <td>2024-09-21 ==&gt; 21:24:15.28081952796115Z</td>\n",
       "      <td>10.458496</td>\n",
       "    </tr>\n",
       "    <tr>\n",
       "      <th>7</th>\n",
       "      <td>2024-09-22 ==&gt; 10:45:38.14996514107624Z</td>\n",
       "      <td>2024-09-22 ==&gt; 10:48:21.06693410315203Z</td>\n",
       "      <td>2.715283</td>\n",
       "    </tr>\n",
       "    <tr>\n",
       "      <th>8</th>\n",
       "      <td>2024-09-22 ==&gt; 12:17:42.36075050988782Z</td>\n",
       "      <td>2024-09-22 ==&gt; 12:28:17.07420507222591Z</td>\n",
       "      <td>10.578558</td>\n",
       "    </tr>\n",
       "    <tr>\n",
       "      <th>9</th>\n",
       "      <td>2024-09-22 ==&gt; 13:54:53.6714167933406Z</td>\n",
       "      <td>2024-09-22 ==&gt; 14:04:52.82201177275074Z</td>\n",
       "      <td>9.985843</td>\n",
       "    </tr>\n",
       "    <tr>\n",
       "      <th>10</th>\n",
       "      <td>2024-09-22 ==&gt; 15:34:12.24446443969834Z</td>\n",
       "      <td>2024-09-22 ==&gt; 15:41:20.99465055668832Z</td>\n",
       "      <td>7.145836</td>\n",
       "    </tr>\n",
       "    <tr>\n",
       "      <th>11</th>\n",
       "      <td>2024-09-22 ==&gt; 17:12:46.62260135022683Z</td>\n",
       "      <td>2024-09-22 ==&gt; 17:19:38.15864452175624Z</td>\n",
       "      <td>6.858934</td>\n",
       "    </tr>\n",
       "    <tr>\n",
       "      <th>12</th>\n",
       "      <td>2024-09-22 ==&gt; 18:49:20.86417280905579Z</td>\n",
       "      <td>2024-09-22 ==&gt; 18:59:04.8902603101173Z</td>\n",
       "      <td>9.733768</td>\n",
       "    </tr>\n",
       "    <tr>\n",
       "      <th>13</th>\n",
       "      <td>2024-09-22 ==&gt; 20:25:49.48650986491241Z</td>\n",
       "      <td>2024-09-22 ==&gt; 20:36:39.85562774636461Z</td>\n",
       "      <td>10.839485</td>\n",
       "    </tr>\n",
       "    <tr>\n",
       "      <th>14</th>\n",
       "      <td>2024-09-22 ==&gt; 22:04:27.98003780916162Z</td>\n",
       "      <td>2024-09-22 ==&gt; 22:10:14.41895893937865Z</td>\n",
       "      <td>5.773982</td>\n",
       "    </tr>\n",
       "    <tr>\n",
       "      <th>15</th>\n",
       "      <td>2024-09-23 ==&gt; 11:30:14.18027154112346Z</td>\n",
       "      <td>2024-09-23 ==&gt; 11:40:12.32680351363954Z</td>\n",
       "      <td>9.969109</td>\n",
       "    </tr>\n",
       "    <tr>\n",
       "      <th>16</th>\n",
       "      <td>2024-09-23 ==&gt; 13:06:37.72798873008804Z</td>\n",
       "      <td>2024-09-23 ==&gt; 13:17:05.86065725234868Z</td>\n",
       "      <td>10.468878</td>\n",
       "    </tr>\n",
       "    <tr>\n",
       "      <th>17</th>\n",
       "      <td>2024-09-23 ==&gt; 14:45:34.86161632666806Z</td>\n",
       "      <td>2024-09-23 ==&gt; 14:53:26.37596199306522Z</td>\n",
       "      <td>7.858572</td>\n",
       "    </tr>\n",
       "    <tr>\n",
       "      <th>18</th>\n",
       "      <td>2024-09-23 ==&gt; 16:24:40.2388415567037Z</td>\n",
       "      <td>2024-09-23 ==&gt; 16:31:05.8625284702751Z</td>\n",
       "      <td>6.427061</td>\n",
       "    </tr>\n",
       "    <tr>\n",
       "      <th>19</th>\n",
       "      <td>2024-09-23 ==&gt; 18:01:34.26001791170249Z</td>\n",
       "      <td>2024-09-23 ==&gt; 18:10:35.17571468414884Z</td>\n",
       "      <td>9.015262</td>\n",
       "    </tr>\n",
       "    <tr>\n",
       "      <th>20</th>\n",
       "      <td>2024-09-23 ==&gt; 19:37:55.01897666916966Z</td>\n",
       "      <td>2024-09-23 ==&gt; 19:48:48.80970806133577Z</td>\n",
       "      <td>10.896512</td>\n",
       "    </tr>\n",
       "    <tr>\n",
       "      <th>21</th>\n",
       "      <td>2024-09-23 ==&gt; 21:15:31.98845790702456Z</td>\n",
       "      <td>2024-09-23 ==&gt; 21:23:50.00305517708956Z</td>\n",
       "      <td>8.300243</td>\n",
       "    </tr>\n",
       "  </tbody>\n",
       "</table>\n",
       "</div>"
      ],
      "text/plain": [
       "                            Elevation Entry  \\\n",
       "0    2024-09-21 ==> 11:31:04.3889233428157Z   \n",
       "1   2024-09-21 ==> 13:05:22.83878632906064Z   \n",
       "2   2024-09-21 ==> 14:43:15.87118737386536Z   \n",
       "3   2024-09-21 ==> 16:22:44.27060332866752Z   \n",
       "4   2024-09-21 ==> 18:00:41.84751944092243Z   \n",
       "5   2024-09-21 ==> 19:37:05.08287990613171Z   \n",
       "6   2024-09-21 ==> 21:13:47.77103591932551Z   \n",
       "7   2024-09-22 ==> 10:45:38.14996514107624Z   \n",
       "8   2024-09-22 ==> 12:17:42.36075050988782Z   \n",
       "9    2024-09-22 ==> 13:54:53.6714167933406Z   \n",
       "10  2024-09-22 ==> 15:34:12.24446443969834Z   \n",
       "11  2024-09-22 ==> 17:12:46.62260135022683Z   \n",
       "12  2024-09-22 ==> 18:49:20.86417280905579Z   \n",
       "13  2024-09-22 ==> 20:25:49.48650986491241Z   \n",
       "14  2024-09-22 ==> 22:04:27.98003780916162Z   \n",
       "15  2024-09-23 ==> 11:30:14.18027154112346Z   \n",
       "16  2024-09-23 ==> 13:06:37.72798873008804Z   \n",
       "17  2024-09-23 ==> 14:45:34.86161632666806Z   \n",
       "18   2024-09-23 ==> 16:24:40.2388415567037Z   \n",
       "19  2024-09-23 ==> 18:01:34.26001791170249Z   \n",
       "20  2024-09-23 ==> 19:37:55.01897666916966Z   \n",
       "21  2024-09-23 ==> 21:15:31.98845790702456Z   \n",
       "\n",
       "                             Elevation Exit  Duration (min)  \n",
       "0   2024-09-21 ==> 11:38:05.34339719106884Z        7.015908  \n",
       "1   2024-09-21 ==> 13:16:11.78402997851241Z       10.815754  \n",
       "2    2024-09-21 ==> 14:52:36.8991363854342Z        9.350466  \n",
       "3   2024-09-21 ==> 16:29:20.85334813285234Z        6.609712  \n",
       "4   2024-09-21 ==> 18:08:13.30536373354693Z        7.524297  \n",
       "5   2024-09-21 ==> 19:47:24.35938859211115Z       10.321275  \n",
       "6   2024-09-21 ==> 21:24:15.28081952796115Z       10.458496  \n",
       "7   2024-09-22 ==> 10:48:21.06693410315203Z        2.715283  \n",
       "8   2024-09-22 ==> 12:28:17.07420507222591Z       10.578558  \n",
       "9   2024-09-22 ==> 14:04:52.82201177275074Z        9.985843  \n",
       "10  2024-09-22 ==> 15:41:20.99465055668832Z        7.145836  \n",
       "11  2024-09-22 ==> 17:19:38.15864452175624Z        6.858934  \n",
       "12   2024-09-22 ==> 18:59:04.8902603101173Z        9.733768  \n",
       "13  2024-09-22 ==> 20:36:39.85562774636461Z       10.839485  \n",
       "14  2024-09-22 ==> 22:10:14.41895893937865Z        5.773982  \n",
       "15  2024-09-23 ==> 11:40:12.32680351363954Z        9.969109  \n",
       "16  2024-09-23 ==> 13:17:05.86065725234868Z       10.468878  \n",
       "17  2024-09-23 ==> 14:53:26.37596199306522Z        7.858572  \n",
       "18   2024-09-23 ==> 16:31:05.8625284702751Z        6.427061  \n",
       "19  2024-09-23 ==> 18:10:35.17571468414884Z        9.015262  \n",
       "20  2024-09-23 ==> 19:48:48.80970806133577Z       10.896512  \n",
       "21  2024-09-23 ==> 21:23:50.00305517708956Z        8.300243  "
      ]
     },
     "metadata": {},
     "output_type": "display_data"
    }
   ],
   "source": [
    "ele_events = ele_logger.getLoggedEvents()            \n",
    "\n",
    "entry_list = []\n",
    "exit_list = []\n",
    "duration_list = []\n",
    "\n",
    "for event in ele_events: \n",
    "    if event.isIncreasing():\n",
    "        ele_entry = event.getState().getDate()\n",
    "        entry_str = str(ele_entry).replace(\"T\", \" ==> \")\n",
    "        entry_list.append(entry_str)\n",
    "    else:\n",
    "        ele_exit = event.getState().getDate()\n",
    "        exit_str = str(ele_exit).replace(\"T\", \" ==> \")\n",
    "        exit_list.append(exit_str)\n",
    "\n",
    "        ele_duration = ele_exit.durationFrom(ele_entry) / 60  # Convert to minutes\n",
    "        duration_list.append(ele_duration)\n",
    "\n",
    "# Create the DataFrame\n",
    "df_ele = pd.DataFrame({\n",
    "    'Elevation Entry': entry_list,\n",
    "    'Elevation Exit': exit_list,\n",
    "    'Duration (min)': duration_list\n",
    "})\n",
    "\n",
    "# Display the DataFrame\n",
    "display(df_ele)"
   ]
  },
  {
   "cell_type": "markdown",
   "id": "dc58aef5-b108-49ea-b4d1-28996780396e",
   "metadata": {},
   "source": [
    "**Satellite Entry_Exit with Ground Sensor Field of View** "
   ]
  },
  {
   "cell_type": "code",
   "execution_count": 28,
   "id": "11c9eea4-f47d-43ef-be53-b13567ce6759",
   "metadata": {},
   "outputs": [
    {
     "data": {
      "text/html": [
       "<div>\n",
       "<style scoped>\n",
       "    .dataframe tbody tr th:only-of-type {\n",
       "        vertical-align: middle;\n",
       "    }\n",
       "\n",
       "    .dataframe tbody tr th {\n",
       "        vertical-align: top;\n",
       "    }\n",
       "\n",
       "    .dataframe thead th {\n",
       "        text-align: right;\n",
       "    }\n",
       "</style>\n",
       "<table border=\"1\" class=\"dataframe\">\n",
       "  <thead>\n",
       "    <tr style=\"text-align: right;\">\n",
       "      <th></th>\n",
       "      <th>Combined Entry</th>\n",
       "      <th>Combined Exit</th>\n",
       "      <th>Duration (min)</th>\n",
       "    </tr>\n",
       "  </thead>\n",
       "  <tbody>\n",
       "    <tr>\n",
       "      <th>0</th>\n",
       "      <td>2024-09-21 ==&gt; 13:10:20.94733983067657Z</td>\n",
       "      <td>2024-09-21 ==&gt; 13:11:10.75206554302383Z</td>\n",
       "      <td>0.830079</td>\n",
       "    </tr>\n",
       "    <tr>\n",
       "      <th>1</th>\n",
       "      <td>2024-09-23 ==&gt; 19:43:05.27890712249455Z</td>\n",
       "      <td>2024-09-23 ==&gt; 19:43:39.32391538482981Z</td>\n",
       "      <td>0.567417</td>\n",
       "    </tr>\n",
       "  </tbody>\n",
       "</table>\n",
       "</div>"
      ],
      "text/plain": [
       "                            Combined Entry  \\\n",
       "0  2024-09-21 ==> 13:10:20.94733983067657Z   \n",
       "1  2024-09-23 ==> 19:43:05.27890712249455Z   \n",
       "\n",
       "                             Combined Exit  Duration (min)  \n",
       "0  2024-09-21 ==> 13:11:10.75206554302383Z        0.830079  \n",
       "1  2024-09-23 ==> 19:43:39.32391538482981Z        0.567417  "
      ]
     },
     "metadata": {},
     "output_type": "display_data"
    }
   ],
   "source": [
    "comb_events = combined_logger.getLoggedEvents()            \n",
    "\n",
    "entry_list = []\n",
    "exit_list = []\n",
    "duration_list = []\n",
    "\n",
    "for event in comb_events: \n",
    "    if event.isIncreasing():\n",
    "        comb_entry = event.getState().getDate()\n",
    "        entry_str = str(comb_entry).replace(\"T\", \" ==> \")\n",
    "        entry_list.append(entry_str)\n",
    "    else:\n",
    "        comb_exit = event.getState().getDate()\n",
    "        exit_str = str(comb_exit).replace(\"T\", \" ==> \")\n",
    "        exit_list.append(exit_str)\n",
    "\n",
    "        comb_duration = comb_exit.durationFrom(comb_entry) / 60  # Convert to minutes\n",
    "        duration_list.append(comb_duration)\n",
    "\n",
    "# Create the DataFrame\n",
    "df_comb = pd.DataFrame({\n",
    "    'Combined Entry': entry_list,\n",
    "    'Combined Exit': exit_list,\n",
    "    'Duration (min)': duration_list\n",
    "})\n",
    "\n",
    "# Display the DataFrame\n",
    "display(df_comb)"
   ]
  },
  {
   "cell_type": "code",
   "execution_count": null,
   "id": "eb6bd6f9-1fb9-43a3-81cf-1e23638743b8",
   "metadata": {},
   "outputs": [],
   "source": []
  }
 ],
 "metadata": {
  "kernelspec": {
   "display_name": "Python 3 (ipykernel)",
   "language": "python",
   "name": "python3"
  },
  "language_info": {
   "codemirror_mode": {
    "name": "ipython",
    "version": 3
   },
   "file_extension": ".py",
   "mimetype": "text/x-python",
   "name": "python",
   "nbconvert_exporter": "python",
   "pygments_lexer": "ipython3",
   "version": "3.12.3"
  }
 },
 "nbformat": 4,
 "nbformat_minor": 5
}
