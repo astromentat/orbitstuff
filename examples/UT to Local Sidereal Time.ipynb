{
 "cells": [
  {
   "cell_type": "markdown",
   "id": "0611854b",
   "metadata": {},
   "source": [
    "# Converting UT to Local Sidereal Time"
   ]
  },
  {
   "cell_type": "markdown",
   "id": "4309e5a8-2814-4190-96d8-e7e6b80735b5",
   "metadata": {},
   "source": [
    "The code calculates the **Local Sidereal Time**, which is the Right Ascension of celestial objects on the observer's local meridian, based on the provided date, time, and observer's longitude. This is important in astronomy for locating stars and other celestial objects in the sky at a specific time and place."
   ]
  },
  {
   "cell_type": "markdown",
   "id": "ba67679c-d73d-4e40-bbe4-c54e4940850b",
   "metadata": {},
   "source": [
    "The code starts by asking the user to input the year, month, day, hour, minute, and second. These values are then converted to integers or floats (in the case of seconds) for further calculations."
   ]
  },
  {
   "cell_type": "code",
   "execution_count": 28,
   "id": "7d0128e5-b1b0-4a59-ac63-9ced098fdcb0",
   "metadata": {},
   "outputs": [
    {
     "name": "stdin",
     "output_type": "stream",
     "text": [
      "Year:  2024\n",
      "Month:  1\n",
      "Day:  1\n",
      "Hour:  0\n",
      "Minute:  0\n",
      "Second:  0\n"
     ]
    }
   ],
   "source": [
    "year = input('Year: ')\n",
    "year = int(year)\n",
    "month = input('Month: ')\n",
    "month = int(month)\n",
    "day = input('Day: ')\n",
    "day = int(day)\n",
    "hour = input('Hour: ')\n",
    "hour = int(hour)\n",
    "minute = input('Minute: ')\n",
    "minute = int(minute)\n",
    "second = input('Second: ')\n",
    "second = float(second)"
   ]
  },
  {
   "cell_type": "markdown",
   "id": "6770dc22-8deb-476c-8da7-7f57fda12130",
   "metadata": {},
   "source": [
    "Ask for observer's longitude"
   ]
  },
  {
   "cell_type": "code",
   "execution_count": 30,
   "id": "9267777a-5c4c-46f5-9542-cf41ef9cc195",
   "metadata": {},
   "outputs": [
    {
     "name": "stdin",
     "output_type": "stream",
     "text": [
      "Longitude (degrees, East positive):  35\n"
     ]
    }
   ],
   "source": [
    "longitude = input('Longitude (degrees, East positive): ')\n",
    "longitude = float(longitude)"
   ]
  },
  {
   "cell_type": "markdown",
   "id": "ace8725c-9614-4f64-8e81-03b43845be2b",
   "metadata": {},
   "source": [
    "Universal Time (UT) is calculated in decimal hours. \n",
    "This combines the hour, minute, and second inputs into a single decimal value representing the time of day."
   ]
  },
  {
   "cell_type": "code",
   "execution_count": 32,
   "id": "3ebabedf-668c-4787-9526-b8d89644abcb",
   "metadata": {},
   "outputs": [],
   "source": [
    "UT = hour + minute/60 + second/3600                                                           # [hour]"
   ]
  },
  {
   "cell_type": "markdown",
   "id": "22fa4fc5-b1cd-497f-8064-6c26e1590968",
   "metadata": {},
   "source": [
    "Julian Day Number (JD) is a continuous count of days since the beginning of the Julian Period used primarily by astronomers. \n",
    "\n",
    "**J0** represents the Julian Day Number at 0h UT (midnight) of the specified date.\n",
    "\n",
    "The formula takes into account the year, month, and day to compute J0 in days."
   ]
  },
  {
   "cell_type": "code",
   "execution_count": 34,
   "id": "bfc9ffe9-1960-47d9-a56c-b6c2d4bd1325",
   "metadata": {},
   "outputs": [],
   "source": [
    "# Julian Day Number at 0h UT\n",
    "J0 = 367*year - int(7*(year + int((month + 9)/12))/4) + int((275*month)/9) + day + 1721013.5  # [days]"
   ]
  },
  {
   "cell_type": "markdown",
   "id": "42049521-4964-44d6-bada-86529c66d583",
   "metadata": {},
   "source": [
    "This adds the Universal Time (in fraction of a day) to J0 to get the Julian Day Number (JD) for the exact time specified."
   ]
  },
  {
   "cell_type": "code",
   "execution_count": 36,
   "id": "0908035a-a2e6-4e2c-8827-4d911faf81b1",
   "metadata": {},
   "outputs": [],
   "source": [
    "# Julian Day Number at input UT\n",
    "JD = J0 + UT/24                                                                               # [days]"
   ]
  },
  {
   "cell_type": "markdown",
   "id": "b2af2a45-b80f-48c5-a636-321ba20828cd",
   "metadata": {},
   "source": [
    "### Greenwich Sidereal Time (GST) Calculation"
   ]
  },
  {
   "cell_type": "markdown",
   "id": "532e4c22-dcf6-472b-b693-1693bd6356b9",
   "metadata": {},
   "source": [
    "**T0** represents the number of Julian centuries since the reference epoch (J2000.0, corresponding to January 1, 2000, 12:00 TT).\n",
    "\n",
    "**teta_g0** is the Greenwich Sidereal Time (GST) at 0h UT on the specified date. This value is calculated in degrees, considering the Earth's rotation and the precession of the equinoxes.\n",
    "\n",
    "**teta_g** is the Greenwich Sidereal Time at the exact input UT. It accounts for the Earth's rotation since 0h UT, calculated by adding the fractional day to teta_g0."
   ]
  },
  {
   "cell_type": "code",
   "execution_count": 38,
   "id": "10c28646-a481-4918-8c1e-31defb7d5053",
   "metadata": {},
   "outputs": [],
   "source": [
    "T0 = (J0 - 2451545) / 36525\n",
    "\n",
    "# Greenwich Sidereal Time at 0h UT\n",
    "teta_g0 = 100.4606184 + 36000.77004*T0 + 0.000387933*T0**2 - 2.583*1e-8*T0**3                 # [deg]\n",
    "\n",
    "# Greenwich Sidereal Time\n",
    "teta_g = teta_g0 + 360.98564724*(UT/24)                                                       # [deg]"
   ]
  },
  {
   "cell_type": "markdown",
   "id": "8821c2a6-47c8-40bf-a75b-8b5fe31854df",
   "metadata": {},
   "source": [
    "### Local Sidereal Time (LST) Calculation"
   ]
  },
  {
   "cell_type": "markdown",
   "id": "74978572-207b-4ec7-9c42-aaa203fb99ce",
   "metadata": {},
   "source": [
    "Local Sidereal Time (LST) is calculated by adjusting the Greenwich Sidereal Time for the observer's longitude. \n",
    "\n",
    "The value 35 represents the longitude of the observer in degrees (East positive).\n",
    "\n",
    "The modulus operation (% 360) ensures that the result is within the range of 0 to 360 degrees."
   ]
  },
  {
   "cell_type": "code",
   "execution_count": 40,
   "id": "89d5a387-225e-46d5-ac45-4b60401b6900",
   "metadata": {},
   "outputs": [
    {
     "name": "stdout",
     "output_type": "stream",
     "text": [
      "Local Sidereal Time:  135.15262665907903  degrees.\n"
     ]
    }
   ],
   "source": [
    "# Local Sidereal Time\n",
    "teta = (teta_g + longitude) % 360\n",
    "print(\"Local Sidereal Time: \", teta, \" degrees.\")"
   ]
  },
  {
   "cell_type": "code",
   "execution_count": null,
   "id": "322a5c54",
   "metadata": {},
   "outputs": [],
   "source": []
  }
 ],
 "metadata": {
  "kernelspec": {
   "display_name": "Python 3 (ipykernel)",
   "language": "python",
   "name": "python3"
  },
  "language_info": {
   "codemirror_mode": {
    "name": "ipython",
    "version": 3
   },
   "file_extension": ".py",
   "mimetype": "text/x-python",
   "name": "python",
   "nbconvert_exporter": "python",
   "pygments_lexer": "ipython3",
   "version": "3.12.3"
  }
 },
 "nbformat": 4,
 "nbformat_minor": 5
}
