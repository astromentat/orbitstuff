{
 "cells": [
  {
   "cell_type": "markdown",
   "id": "1efb8982",
   "metadata": {},
   "source": [
    "# Date and Time Converter Tools"
   ]
  },
  {
   "cell_type": "markdown",
   "id": "668f3045",
   "metadata": {},
   "source": [
    "There are four different date-time tools within this code:\n",
    "\n",
    "- Format Converter\n",
    "- Time Scale Converter\n",
    "- Duration Tool\n",
    "- Date Shifter\n",
    "\n",
    "Description of each tool is given under its own title."
   ]
  },
  {
   "cell_type": "code",
   "execution_count": 3,
   "id": "0251ca49",
   "metadata": {},
   "outputs": [],
   "source": [
    "#initialize orekit and JVM\n",
    "import orekit\n",
    "orekit.initVM()\n",
    "\n",
    "from orekit.pyhelpers import setup_orekit_curdir\n",
    "setup_orekit_curdir()\n",
    "\n",
    "from org.orekit.time import TimeScalesFactory, AbsoluteDate, DateComponents, TimeComponents, GNSSDate, TAIScale, TimeScales\n",
    "from org.orekit.gnss import SatelliteSystem\n",
    "\n",
    "utc = TimeScalesFactory.getUTC()\n",
    "tai = TimeScalesFactory.getTAI()"
   ]
  },
  {
   "cell_type": "markdown",
   "id": "40c9b345",
   "metadata": {},
   "source": [
    "### Format Converter "
   ]
  },
  {
   "cell_type": "markdown",
   "id": "1f2dee61",
   "metadata": {},
   "source": [
    "This tool converts the different time input types into ISO 8601 format. User can either enter:\n",
    "\n",
    "- Calendar date\n",
    "- GNSS date\n",
    "- Julian date\n",
    "- Modified Julian date\n",
    "\n",
    "In the end, the output will be the date in ISO 8601 format such as *2022-09-24T00:00:00.000*"
   ]
  },
  {
   "cell_type": "code",
   "execution_count": 6,
   "id": "2fca2c9e",
   "metadata": {},
   "outputs": [
    {
     "name": "stdin",
     "output_type": "stream",
     "text": [
      "Enter the date format you would like to convert (Calendar, GNSS, JDD or MJD):   Calendar\n",
      "Year: 2024\n",
      "Month: 1\n",
      "Day: 1\n",
      "Hour: 0\n",
      "Minute: 0\n",
      "Second (double): 0.0\n"
     ]
    },
    {
     "name": "stdout",
     "output_type": "stream",
     "text": [
      "ISO 8601: 2024-01-01T00:00:00.000Z\n",
      "Day of week: 1\n",
      "Day of year: 1\n",
      "MJD: 60310\n",
      "Second in a day: 0.0\n"
     ]
    }
   ],
   "source": [
    "format_converter = input('Enter the date format you would like to convert (Calendar, GNSS, JDD or MJD):  ')\n",
    "\n",
    "if (format_converter.casefold() == 'Calendar'.casefold()):\n",
    "    year = input('Year:')\n",
    "    year = int(year)\n",
    "    month = input('Month:')\n",
    "    month = int(month)\n",
    "    day = input('Day:')\n",
    "    day = int(day)\n",
    "    hour = input('Hour:')\n",
    "    hour = int(hour)\n",
    "    minute = input('Minute:')\n",
    "    minute = int(minute)\n",
    "    second = input('Second (double):')\n",
    "    second = float(second)\n",
    "    \n",
    "    date = DateComponents(year, month, day)\n",
    "    time = TimeComponents(hour, minute, second)\n",
    "    \n",
    "    calendarDate = AbsoluteDate(date, time, utc)\n",
    "    print(\"ISO 8601:\",calendarDate)\n",
    "    print(\"Day of week:\", date.getDayOfWeek())\n",
    "    print(\"Day of year:\", date.getDayOfYear())\n",
    "    print(\"MJD:\", date.getMJD())\n",
    "    print(\"Second in a day:\", time.getSecond())\n",
    "    \n",
    "elif (format_converter.casefold() == 'GNSS'.casefold()):\n",
    "    weeknumber = input('Week number since 01-06-1980:')\n",
    "    weeknumber = int(weeknumber)\n",
    "    millisecond = input('Number of milliseconds since week start:')\n",
    "    millisecond = float(millisecond)\n",
    "    satsystem = input('Which GNSS system (Beidou, Galileo, Glonass, GPS etc.) you want to work with?: ')\n",
    "    \n",
    "    if (satsystem.casefold() == 'BEIDOU'.casefold()):\n",
    "        system = SatelliteSystem.BEIDOU \n",
    "        \n",
    "    elif (satsystem.casefold() == 'GALILEO'.casefold()):\n",
    "        system = SatelliteSystem.GALILEO  \n",
    "        \n",
    "    elif (satsystem.casefold() == 'GLONASS'.casefold()):\n",
    "        system = SatelliteSystem.GLONASS \n",
    "        \n",
    "    elif (satsystem.casefold() == 'GPS'.casefold()):\n",
    "        system = SatelliteSystem.GPS\n",
    "        \n",
    "    elif (satsystem.casefold() == 'IRNSS'.casefold()):\n",
    "        system = SatelliteSystem.IRNSS  \n",
    "        \n",
    "    elif (satsystem.casefold() == 'QZSS'.casefold()):\n",
    "        system = SatelliteSystem.QZSS  \n",
    "        \n",
    "    elif (satsystem.casefold() == 'SBAS'.casefold()):\n",
    "        system = SatelliteSystem.SBAS  \n",
    "        \n",
    "    else:\n",
    "        raise TypeError('Unrecognized GNSS system.')\n",
    "        \n",
    "    GNSS_date = GNSSDate(weeknumber, millisecond, system)\n",
    "    date = GNSS_date.getDate()\n",
    "    print(\"ISO 8601:\", date)\n",
    "\n",
    "    \n",
    "elif (format_converter.casefold() == 'JDD'.casefold()):\n",
    "    julianday = input('Julian Day: ')\n",
    "    julianday = int(julianday)\n",
    "    ssm = input('Seconds in the Julian day starting from noon (0.0): ')\n",
    "    ssm = float(ssm)\n",
    "    \n",
    "    date = AbsoluteDate.createJDDate(julianday, ssm, utc)\n",
    "    print(\"ISO 8601:\", date)\n",
    "    \n",
    "elif (format_converter.casefold() == 'MJD'.casefold()):\n",
    "    modifiedjulianday = input('Modified Julian Day: ')\n",
    "    modifiedjulianday = int(modifiedjulianday)\n",
    "    seconds = input('Seconds in the day: ')\n",
    "    seconds = float(seconds)\n",
    "    \n",
    "    date = AbsoluteDate.createMJDDate(modifiedjulianday, seconds , utc)\n",
    "    print(\"\\nISO 8601:\", date)\n",
    "    \n",
    "else:\n",
    "    raise TypeError('Unrecognized format converter.')"
   ]
  },
  {
   "cell_type": "markdown",
   "id": "9d8b0204",
   "metadata": {},
   "source": [
    "### Time Scale Converter"
   ]
  },
  {
   "cell_type": "markdown",
   "id": "0127de24-d012-4b30-ab6b-ee791cbee953",
   "metadata": {},
   "source": [
    "This tool converts the entered date components into different time scales. There are 8 different scales such as UTC, TAI, GPS, GST, TCB, TCG, TDB and TT."
   ]
  },
  {
   "cell_type": "code",
   "execution_count": 8,
   "id": "1fe87f5d",
   "metadata": {},
   "outputs": [
    {
     "name": "stdin",
     "output_type": "stream",
     "text": [
      "Year: 2024\n",
      "Month:  1\n",
      "Day:  1\n",
      "Hour:  0\n",
      "Minute:  0\n",
      "Second:  0\n",
      "Type the input time scale (UTC, TAI, GPS etc.) :   GPS\n",
      "Type in the time scale (UTC, TAI, GPS etc.) you wish to convert:   UTC\n"
     ]
    },
    {
     "name": "stdout",
     "output_type": "stream",
     "text": [
      "\n",
      "The converted date in UTC scale is:  2023-12-31T23:59:42.000+00:00\n"
     ]
    }
   ],
   "source": [
    "year = input('Year:')\n",
    "year = int(year)\n",
    "month = input('Month: ')\n",
    "month = int(month)\n",
    "day = input('Day: ')\n",
    "day = int(day)\n",
    "hour = input('Hour: ')\n",
    "hour = int(hour)\n",
    "minute = input('Minute: ')\n",
    "minute = int(minute)\n",
    "second = input('Second: ')\n",
    "second = float(second)\n",
    "\n",
    "date = DateComponents(year, month, day)\n",
    "time = TimeComponents(hour, minute, second)\n",
    "\n",
    "#DateTimeComponents = DateTimeComponents(year, month, day, hour, minute, second)\n",
    "\n",
    "input_time_scale = input('Type the input time scale (UTC, TAI, GPS etc.) :  ')\n",
    "\n",
    "if (input_time_scale.casefold() == 'UTC'.casefold()):\n",
    "    input_scale = TimeScalesFactory.getUTC()\n",
    "    \n",
    "elif (input_time_scale.casefold() == 'TAI'.casefold()):\n",
    "    input_scale = TimeScalesFactory.getTAI()\n",
    "    \n",
    "elif (input_time_scale.casefold() == 'GPS'.casefold()):\n",
    "    input_scale = TimeScalesFactory.getGPS()\n",
    "    \n",
    "elif (input_time_scale.casefold() == 'GST'.casefold()):\n",
    "    input_scale = TimeScalesFactory.getGST()\n",
    "    \n",
    "elif (input_time_scale.casefold() == 'TCB'.casefold()):\n",
    "    input_scale = TimeScalesFactory.getTCB()\n",
    "    \n",
    "elif (input_time_scale.casefold() == 'TCG'.casefold()):\n",
    "    input_scale = TimeScalesFactory.getTCG()\n",
    "    \n",
    "elif (input_time_scale.casefold() == 'TDB'.casefold()):\n",
    "    input_scale = TimeScalesFactory.getTDB()\n",
    "    \n",
    "elif (input_time_scale.casefold() == 'TT'.casefold()):\n",
    "    input_scale = TimeScalesFactory.getTT()\n",
    "    \n",
    "else:\n",
    "    raise TypeError('Unrecognized time scale.')\n",
    "    \n",
    "input_Date = AbsoluteDate(date, time,input_scale)\n",
    "    \n",
    "# print(\"\\nInput date is\", input_Date, \"scale is: \", input_scale)\n",
    "\n",
    "time_scale = input('Type in the time scale (UTC, TAI, GPS etc.) you wish to convert:  ')\n",
    "\n",
    "if (time_scale.casefold() == 'UTC'.casefold()):\n",
    "    scale = TimeScalesFactory.getUTC()\n",
    "    \n",
    "elif (time_scale.casefold() == 'TAI'.casefold()):\n",
    "    scale = TimeScalesFactory.getTAI()\n",
    "    \n",
    "elif (time_scale.casefold() == 'GPS'.casefold()):\n",
    "    scale = TimeScalesFactory.getGPS()\n",
    "    \n",
    "elif (time_scale.casefold() == 'GST'.casefold()):\n",
    "    scale = TimeScalesFactory.getGST()\n",
    "    \n",
    "elif (time_scale.casefold() == 'TCB'.casefold()):\n",
    "    scale = TimeScalesFactory.getTCB()\n",
    "    \n",
    "elif (time_scale.casefold() == 'TCG'.casefold()):\n",
    "    scale = TimeScalesFactory.getTCG()\n",
    "    \n",
    "elif (time_scale.casefold() == 'TDB'.casefold()):\n",
    "    scale = TimeScalesFactory.getTDB()\n",
    "    \n",
    "elif (time_scale.casefold() == 'TT'.casefold()):\n",
    "    scale = TimeScalesFactory.getTT()\n",
    "    \n",
    "else:\n",
    "    raise TypeError('Unrecognized time scale.')\n",
    "\n",
    "calendarDate = input_Date.getComponents(scale)\n",
    "\n",
    "print(\"\\nThe converted date in\", time_scale, \"scale is: \", calendarDate)"
   ]
  },
  {
   "cell_type": "markdown",
   "id": "d0b22f34",
   "metadata": {},
   "source": [
    "### Duration Tool "
   ]
  },
  {
   "cell_type": "markdown",
   "id": "3060ff8c",
   "metadata": {},
   "source": [
    "Duration tool calculates the total duration between initial and final dates. Date formats can be different than each other."
   ]
  },
  {
   "cell_type": "code",
   "execution_count": 11,
   "id": "faf2208a",
   "metadata": {},
   "outputs": [
    {
     "name": "stdin",
     "output_type": "stream",
     "text": [
      "Start Year:  2024\n",
      "Start Month:  1\n",
      "Start Day:  1\n",
      "Start Hour:  0\n",
      "Start Minute:  0\n",
      "Start Second:  0\n",
      "Type in the time scale(UTC, TAI, GPS etc.) for the starting date:   UTC\n",
      "\n",
      "Finish Year:  2024\n",
      "Finish Month:  2\n",
      "Finish Day:  1\n",
      "Finish Hour:  0\n",
      "Finish Minute:  0\n",
      "Finish Second:  0\n",
      "Type in the time scale(UTC, TAI, GPS etc.) for the ending date:   UTC\n"
     ]
    },
    {
     "name": "stdout",
     "output_type": "stream",
     "text": [
      "\n",
      "Duration between the start and end date is:  2678400.0  seconds\n"
     ]
    }
   ],
   "source": [
    "year = input('Start Year: ')\n",
    "year = int(year)\n",
    "month = input('Start Month: ')\n",
    "month = int(month)\n",
    "day = input('Start Day: ')\n",
    "day = int(day)\n",
    "hour = input('Start Hour: ')\n",
    "hour = int(hour)\n",
    "minute = input('Start Minute: ')\n",
    "minute = int(minute)\n",
    "second = input('Start Second: ')\n",
    "second = float(second)\n",
    "\n",
    "date = DateComponents(year, month, day)\n",
    "time = TimeComponents(hour, minute, second)\n",
    "\n",
    "time_scale = input('Type in the time scale(UTC, TAI, GPS etc.) for the starting date:  ')\n",
    "\n",
    "if (time_scale.casefold() == 'UTC'.casefold()):\n",
    "    scale = TimeScalesFactory.getUTC()\n",
    "    \n",
    "elif (time_scale.casefold() == 'TAI'.casefold()):\n",
    "    scale = TimeScalesFactory.getTAI()\n",
    "    \n",
    "elif (time_scale.casefold() == 'GPS'.casefold()):\n",
    "    scale = TimeScalesFactory.getGPS()\n",
    "    \n",
    "elif (time_scale.casefold() == 'GST'.casefold()):\n",
    "    scale = TimeScalesFactory.getGST()\n",
    "    \n",
    "elif (time_scale.casefold() == 'TCB'.casefold()):\n",
    "    scale = TimeScalesFactory.getTCB()\n",
    "    \n",
    "elif (time_scale.casefold() == 'TCG'.casefold()):\n",
    "    scale = TimeScalesFactory.getTCG()\n",
    "    \n",
    "elif (time_scale.casefold() == 'TDB'.casefold()):\n",
    "    scale = TimeScalesFactory.getTDB()\n",
    "    \n",
    "elif (time_scale.casefold() == 'TT'.casefold()):\n",
    "    scale = TimeScalesFactory.getTT()\n",
    "    \n",
    "else:\n",
    "    raise TypeError('Unrecognized time scale.')\n",
    "\n",
    "\n",
    "StartDate = AbsoluteDate(date, time, scale)\n",
    "\n",
    "\n",
    "year = input('\\nFinish Year: ')\n",
    "year = int(year)\n",
    "month = input('Finish Month: ')\n",
    "month = int(month)\n",
    "day = input('Finish Day: ')\n",
    "day = int(day)\n",
    "hour = input('Finish Hour: ')\n",
    "hour = int(hour)\n",
    "minute = input('Finish Minute: ')\n",
    "minute = int(minute)\n",
    "second = input('Finish Second: ')\n",
    "second = float(second)\n",
    "\n",
    "date = DateComponents(year, month, day)\n",
    "time = TimeComponents(hour, minute, second)\n",
    "\n",
    "time_scale = input('Type in the time scale(UTC, TAI, GPS etc.) for the ending date:  ')\n",
    "\n",
    "if (time_scale.casefold() == 'UTC'.casefold()):\n",
    "    scale = TimeScalesFactory.getUTC()\n",
    "    \n",
    "elif (time_scale.casefold() == 'TAI'.casefold()):\n",
    "    scale = TimeScalesFactory.getTAI()\n",
    "    \n",
    "elif (time_scale.casefold() == 'GPS'.casefold()):\n",
    "    scale = TimeScalesFactory.getGPS()\n",
    "    \n",
    "elif (time_scale.casefold() == 'GST'.casefold()):\n",
    "    scale = TimeScalesFactory.getGST()\n",
    "    \n",
    "elif (time_scale.casefold() == 'TCB'.casefold()):\n",
    "    scale = TimeScalesFactory.getTCB()\n",
    "    \n",
    "elif (time_scale.casefold() == 'TCG'.casefold()):\n",
    "    scale = TimeScalesFactory.getTCG()\n",
    "    \n",
    "elif (time_scale.casefold() == 'TDB'.casefold()):\n",
    "    scale = TimeScalesFactory.getTDB()\n",
    "    \n",
    "elif (time_scale.casefold() == 'TT'.casefold()):\n",
    "    scale = TimeScalesFactory.getTT()\n",
    "    \n",
    "else:\n",
    "    raise TypeError('Unrecognized time scale.')\n",
    "\n",
    "\n",
    "FinishDate = AbsoluteDate(date, time, scale)\n",
    "\n",
    "duration = FinishDate.durationFrom(StartDate)\n",
    "print(\"\\nDuration between the start and end date is: \", duration, \" seconds\")"
   ]
  },
  {
   "cell_type": "markdown",
   "id": "96ba08ce",
   "metadata": {},
   "source": [
    "### Date Shifter"
   ]
  },
  {
   "cell_type": "markdown",
   "id": "404e4323",
   "metadata": {},
   "source": [
    "Date shifter tool simply lets you input the starting date and the shift amount in seconds. It then returnsv the shifted date to user."
   ]
  },
  {
   "cell_type": "code",
   "execution_count": 14,
   "id": "54ab3815",
   "metadata": {},
   "outputs": [
    {
     "name": "stdin",
     "output_type": "stream",
     "text": [
      "Start Year:  2024\n",
      "Start Month:  1\n",
      "Start Day:  1\n",
      "Start Hour:  0\n",
      "Start Minute:  0\n",
      "Start Second:  0\n",
      "Type in the time scale(UTC, TAI, GPS etc.) you wish to implement:   UTC\n",
      "Enter how many seconds you would like to shift:  24000\n"
     ]
    },
    {
     "name": "stdout",
     "output_type": "stream",
     "text": [
      "\n",
      "Entered day is shifted by  24000.0 seconds and date 2024-01-01T06:40:00.000Z is reached.\n"
     ]
    }
   ],
   "source": [
    "year = input('Start Year: ')\n",
    "year = int(year)\n",
    "month = input('Start Month: ')\n",
    "month = int(month)\n",
    "day = input('Start Day: ')\n",
    "day = int(day)\n",
    "hour = input('Start Hour: ')\n",
    "hour = int(hour)\n",
    "minute = input('Start Minute: ')\n",
    "minute = int(minute)\n",
    "second = input('Start Second: ')\n",
    "second = float(second)\n",
    "\n",
    "date = DateComponents(year, month, day)\n",
    "time = TimeComponents(hour, minute, second)\n",
    "time_scale = input('Type in the time scale(UTC, TAI, GPS etc.) you wish to implement:  ')\n",
    "\n",
    "if (time_scale.casefold() == 'UTC'.casefold()):\n",
    "    scale = TimeScalesFactory.getUTC()\n",
    "    \n",
    "elif (time_scale.casefold() == 'TAI'.casefold()):\n",
    "    scale = TimeScalesFactory.getTAI()\n",
    "    \n",
    "elif (time_scale.casefold() == 'GPS'.casefold()):\n",
    "    scale = TimeScalesFactory.getGPS()\n",
    "    \n",
    "elif (time_scale.casefold() == 'GST'.casefold()):\n",
    "    scale = TimeScalesFactory.getGST()\n",
    "    \n",
    "elif (time_scale.casefold() == 'TCB'.casefold()):\n",
    "    scale = TimeScalesFactory.getTCB()\n",
    "    \n",
    "elif (time_scale.casefold() == 'TCG'.casefold()):\n",
    "    scale = TimeScalesFactory.getTCG()\n",
    "    \n",
    "elif (time_scale.casefold() == 'TDB'.casefold()):\n",
    "    scale = TimeScalesFactory.getTDB()\n",
    "    \n",
    "elif (time_scale.casefold() == 'TT'.casefold()):\n",
    "    scale = TimeScalesFactory.getTT()\n",
    "    \n",
    "else:\n",
    "    raise TypeError('Unrecognized time scale.')\n",
    "\n",
    "\n",
    "StartDate = AbsoluteDate(date, time, utc)\n",
    "\n",
    "shifted = input('Enter how many seconds you would like to shift: ')\n",
    "shifted = float(shifted)\n",
    "\n",
    "shiftedBy = StartDate.shiftedBy(shifted)\n",
    "print(\"\\nEntered day is shifted by \", shifted, \"seconds\", \"and date\", shiftedBy, \"is reached.\")"
   ]
  },
  {
   "cell_type": "markdown",
   "id": "ea29470c",
   "metadata": {},
   "source": [
    "# TLE epoch converter\n"
   ]
  },
  {
   "cell_type": "markdown",
   "id": "28b5f4c6",
   "metadata": {},
   "source": [
    "TLE Epoch to Unix Epoch\n"
   ]
  },
  {
   "cell_type": "code",
   "execution_count": 31,
   "id": "ce1c5260",
   "metadata": {},
   "outputs": [
    {
     "name": "stdin",
     "output_type": "stream",
     "text": [
      "Enter TLE Epoch (ex.24216.16658206):  24216.16658206\n"
     ]
    },
    {
     "name": "stdout",
     "output_type": "stream",
     "text": [
      "Unix epoch time: 1722646792.0\n",
      "Converted Datetime: 2024-08-03 00:59:52+00:00\n"
     ]
    }
   ],
   "source": [
    "import datetime\n",
    "import time\n",
    "# get year 2 digit and floating seconds days \n",
    "\n",
    "tle_epoch = input('Enter TLE Epoch (ex.24216.16658206): ')\n",
    "y_d, nbs = tle_epoch.split('.') \n",
    "# parse to datetime (since midnight and add the seconds) %j Day of the year as a zero-padded decimal number.\n",
    "d = datetime.datetime.strptime(y_d, \"%y%j\") + datetime.timedelta(seconds=float(\".\" + nbs) * 24 * 60 * 60)\n",
    "# 1.0 => 1 day# from time tuple get epoch time. \n",
    "\n",
    "# given epoch time  \n",
    "epoch_time = time.mktime(d.timetuple()) \n",
    "  \n",
    "# using the datetime.fromtimestamp() function  \n",
    "date_time = datetime.datetime.fromtimestamp(epoch_time, datetime.timezone.utc)  \n",
    "\n",
    "  \n",
    "# printing the value  \n",
    "print(\"Unix epoch time:\", epoch_time)  \n",
    "print(\"Converted Datetime:\", date_time )  "
   ]
  },
  {
   "cell_type": "markdown",
   "id": "82967e2e",
   "metadata": {},
   "source": [
    "# Datetime to Unix epoch converter"
   ]
  },
  {
   "cell_type": "code",
   "execution_count": 19,
   "id": "3f8969f6",
   "metadata": {},
   "outputs": [
    {
     "name": "stdin",
     "output_type": "stream",
     "text": [
      "Start Year:  2024\n",
      "Start Month:  1\n",
      "Start Day:  1\n",
      "Start Hour:  0\n",
      "Start Minute:  0\n",
      "Start Second:  0\n"
     ]
    },
    {
     "name": "stdout",
     "output_type": "stream",
     "text": [
      "Entered date time (UTC) : 2024-08-03 00:59:52\n",
      "Unix epoch time :  1722635992.0\n"
     ]
    }
   ],
   "source": [
    "import datetime\n",
    "import time\n",
    "\n",
    "year = input('Start Year: ')\n",
    "year = int(year)\n",
    "month = input('Start Month: ')\n",
    "month = int(month)\n",
    "day = input('Start Day: ')\n",
    "day = int(day)\n",
    "hour = input('Start Hour: ')\n",
    "hour = int(hour)\n",
    "minute = input('Start Minute: ')\n",
    "minute = int(minute)\n",
    "second = input('Start Second: ')\n",
    "second = int(second)\n",
    " \n",
    "\n",
    "epoch_time = datetime.datetime(year, month, day, hour, minute, second).timestamp() \n",
    " \n",
    "# print regular python date&time\n",
    "print(\"Entered date time (UTC) :\",date_time)\n",
    " \n",
    "# displaying unix timestamp after conversion\n",
    "print(\"Unix epoch time : \",\n",
    "      (time.mktime(date_time.timetuple())))\n",
    "\n"
   ]
  }
 ],
 "metadata": {
  "kernelspec": {
   "display_name": "Python 3 (ipykernel)",
   "language": "python",
   "name": "python3"
  },
  "language_info": {
   "codemirror_mode": {
    "name": "ipython",
    "version": 3
   },
   "file_extension": ".py",
   "mimetype": "text/x-python",
   "name": "python",
   "nbconvert_exporter": "python",
   "pygments_lexer": "ipython3",
   "version": "3.12.3"
  }
 },
 "nbformat": 4,
 "nbformat_minor": 5
}
