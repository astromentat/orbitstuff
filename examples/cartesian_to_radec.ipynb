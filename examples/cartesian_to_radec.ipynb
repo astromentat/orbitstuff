{
 "cells": [
  {
   "cell_type": "markdown",
   "id": "2c30c977-0208-4357-9442-1febed6fec7e",
   "metadata": {},
   "source": [
    "# Conversion from Cartesian (ECI) to RA-Dec"
   ]
  },
  {
   "cell_type": "markdown",
   "id": "0c494b83-859a-472e-bd80-e5e744637e79",
   "metadata": {},
   "source": [
    "This code performs a conversion from Cartesian coordinates (x, y, z) in the Earth-Centered Inertial (ECI) frame to astronomical coordinates, specifically Right Ascension (RA) and Declination (Dec), which are commonly used in astronomy to specify the positions of celestial objects.\n"
   ]
  },
  {
   "cell_type": "markdown",
   "id": "021e16e7-3285-4b00-a77f-316d1c41a79e",
   "metadata": {},
   "source": [
    "**Right Ascension (RA):** The angle measured from the x-axis to the projection of the position vector onto the xy-plane, in the direction of increasing y.\n",
    "\n",
    "**Declination (Dec):** The angle between the position vector and the xy-plane"
   ]
  },
  {
   "cell_type": "markdown",
   "id": "84b8c8d1-14ee-4e3d-a3b2-480093b4d9be",
   "metadata": {},
   "source": [
    "**cartesian_to_radec(x, y, z)**\n",
    "This function takes Cartesian coordinates (x, y, z) as input and converts them into Right Ascension (RA) and Declination (Dec) coordinates. RA and Dec are initially calculated in radians and then converted to degrees for easier interpretation."
   ]
  },
  {
   "cell_type": "code",
   "execution_count": 1,
   "id": "c1e4a459-b0b6-4641-b92d-e3b651b73ab0",
   "metadata": {},
   "outputs": [],
   "source": [
    "from math import radians, degrees, pi, sqrt, cos, sin, atan2\n",
    "import math\n",
    "\n",
    "def cartesian_to_radec(x, y, z):\n",
    "    # Convert to spherical coordinates (RA, Dec)\n",
    "    ra = math.atan2(y, x)  # Right Ascension\n",
    "    dec = math.atan2(z, math.sqrt(x**2 + y**2))  # Declination\n",
    "    \n",
    "    # Convert RA and Dec to degrees\n",
    "    ra = math.degrees(ra)\n",
    "    if ra < 0:\n",
    "        ra += 360.0\n",
    "    dec = math.degrees(dec)\n",
    "    \n",
    "    return ra, dec"
   ]
  },
  {
   "cell_type": "code",
   "execution_count": 3,
   "id": "f141ce7a-f618-449b-b9f0-cbf0ef860d7a",
   "metadata": {},
   "outputs": [
    {
     "name": "stdout",
     "output_type": "stream",
     "text": [
      "Right Ascension: 63.43494882292201 degrees\n",
      "Declination: 53.30077479951012 degrees\n"
     ]
    }
   ],
   "source": [
    "# Example usage\n",
    "x = 1000.0  # ECI x-coordinate\n",
    "y = 2000.0  # ECI y-coordinate\n",
    "z = 3000.0  # ECI z-coordinate\n",
    "R = sqrt(x**2 + y**2 + z**2)\n",
    "\n",
    "ra, dec = cartesian_to_radec(x, y, z)\n",
    "print(f\"Right Ascension: {ra} degrees\")\n",
    "print(f\"Declination: {dec} degrees\")"
   ]
  },
  {
   "cell_type": "code",
   "execution_count": 5,
   "id": "eacfa9b3",
   "metadata": {},
   "outputs": [
    {
     "name": "stdout",
     "output_type": "stream",
     "text": [
      "1000.0 1999.999999999999 3000.0\n"
     ]
    }
   ],
   "source": [
    "check_x = cos(radians(ra))*cos(radians(dec))\n",
    "check_y = sin(radians(ra))*cos(radians(dec))\n",
    "check_z = sin(radians(dec))\n",
    "\n",
    "print(R*check_x, R*check_y, R*check_z)"
   ]
  },
  {
   "cell_type": "code",
   "execution_count": null,
   "id": "505bb80a-4137-4ed3-b628-b96c7b5c832e",
   "metadata": {},
   "outputs": [],
   "source": []
  }
 ],
 "metadata": {
  "kernelspec": {
   "display_name": "Python 3 (ipykernel)",
   "language": "python",
   "name": "python3"
  },
  "language_info": {
   "codemirror_mode": {
    "name": "ipython",
    "version": 3
   },
   "file_extension": ".py",
   "mimetype": "text/x-python",
   "name": "python",
   "nbconvert_exporter": "python",
   "pygments_lexer": "ipython3",
   "version": "3.12.3"
  }
 },
 "nbformat": 4,
 "nbformat_minor": 5
}
